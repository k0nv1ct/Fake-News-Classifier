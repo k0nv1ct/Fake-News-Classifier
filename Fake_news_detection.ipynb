{
  "cells": [
    {
      "cell_type": "code",
      "execution_count": null,
      "metadata": {
        "id": "mcCzNqWQscI8"
      },
      "outputs": [],
      "source": [
        "import pandas as pd\n",
        "import re\n",
        "import string\n",
        "import nltk\n",
        "from nltk.corpus import stopwords\n",
        "from nltk.stem import WordNetLemmatizer\n",
        "from nltk.tokenize import word_tokenize"
      ]
    },
    {
      "cell_type": "code",
      "source": [
        "import tensorflow as tf"
      ],
      "metadata": {
        "id": "oY3ARuL4eV8W"
      },
      "execution_count": null,
      "outputs": []
    },
    {
      "cell_type": "code",
      "execution_count": null,
      "metadata": {
        "colab": {
          "base_uri": "https://localhost:8080/"
        },
        "id": "N8BTW9P5v5Ob",
        "outputId": "ab323eae-2bed-4ed5-86db-d245a5b30fcf"
      },
      "outputs": [
        {
          "output_type": "stream",
          "name": "stdout",
          "text": [
            "Mounted at /content/drive\n"
          ]
        }
      ],
      "source": [
        "from google.colab import drive\n",
        "drive.mount('/content/drive')\n"
      ]
    },
    {
      "cell_type": "code",
      "execution_count": null,
      "metadata": {
        "id": "ACvRgrKMvO2U"
      },
      "outputs": [],
      "source": [
        "#Dataset 1\n",
        "# Load the data into a pandas dataframe\n",
        "true_df = pd.read_csv(\"/content/drive/MyDrive/Fake_News/data/True.csv\")\n",
        "fake_df = pd.read_csv(\"/content/drive/MyDrive/Fake_News/data/Fake.csv\")"
      ]
    },
    {
      "cell_type": "code",
      "execution_count": null,
      "metadata": {
        "id": "2QicXm8PwxCQ"
      },
      "outputs": [],
      "source": [
        "#Dataset 2\n",
        "t_df = pd.read_csv('/content/drive/MyDrive/Fake_News/data/train2.tsv', sep='\\t', names = ['index', 'json', 'class', 'title','topic', 'publisher',\n",
        "                                                                                          'rep','state','1','2','3','4','5','6',\n",
        "                                                                                          'person','text'])"
      ]
    },
    {
      "cell_type": "code",
      "source": [
        "#Dataset 3\n",
        "val = t_df = pd.read_csv('/content/drive/MyDrive/Fake_News/data/val2.tsv', sep='\\t', names = ['index', 'json', 'class', 'title','topic', 'publisher',\n",
        "                                                                                          'rep','state','1','2','3','4','5','6',\n",
        "                                                                                          'person','text'])"
      ],
      "metadata": {
        "id": "NCzR6QzC1NWU"
      },
      "execution_count": null,
      "outputs": []
    },
    {
      "cell_type": "code",
      "source": [
        "#dataset 4\n",
        "test = t_df = pd.read_csv('/content/drive/MyDrive/Fake_News/data/test2.tsv', sep='\\t', names = ['index', 'json', 'class', 'title','topic', 'publisher',\n",
        "                                                                                          'rep','state','1','2','3','4','5','6',\n",
        "                                                                                          'person','text'])"
      ],
      "metadata": {
        "id": "Y8Z1mbxr1Rtk"
      },
      "execution_count": null,
      "outputs": []
    },
    {
      "cell_type": "code",
      "execution_count": null,
      "metadata": {
        "colab": {
          "base_uri": "https://localhost:8080/",
          "height": 206
        },
        "id": "gaU9lQ_SxHjP",
        "outputId": "74a1eb10-ff0e-41d8-9bc1-a287c988dbb8"
      },
      "outputs": [
        {
          "output_type": "execute_result",
          "data": {
            "text/plain": [
              "                                               title  \\\n",
              "0  As U.S. budget fight looms, Republicans flip t...   \n",
              "1  U.S. military to accept transgender recruits o...   \n",
              "2  Senior U.S. Republican senator: 'Let Mr. Muell...   \n",
              "3  FBI Russia probe helped by Australian diplomat...   \n",
              "4  Trump wants Postal Service to charge 'much mor...   \n",
              "\n",
              "                                                text       subject  \\\n",
              "0  WASHINGTON (Reuters) - The head of a conservat...  politicsNews   \n",
              "1  WASHINGTON (Reuters) - Transgender people will...  politicsNews   \n",
              "2  WASHINGTON (Reuters) - The special counsel inv...  politicsNews   \n",
              "3  WASHINGTON (Reuters) - Trump campaign adviser ...  politicsNews   \n",
              "4  SEATTLE/WASHINGTON (Reuters) - President Donal...  politicsNews   \n",
              "\n",
              "                 date  \n",
              "0  December 31, 2017   \n",
              "1  December 29, 2017   \n",
              "2  December 31, 2017   \n",
              "3  December 30, 2017   \n",
              "4  December 29, 2017   "
            ],
            "text/html": [
              "\n",
              "  <div id=\"df-61064a74-a3f0-4c72-948d-84d6e3c400ae\">\n",
              "    <div class=\"colab-df-container\">\n",
              "      <div>\n",
              "<style scoped>\n",
              "    .dataframe tbody tr th:only-of-type {\n",
              "        vertical-align: middle;\n",
              "    }\n",
              "\n",
              "    .dataframe tbody tr th {\n",
              "        vertical-align: top;\n",
              "    }\n",
              "\n",
              "    .dataframe thead th {\n",
              "        text-align: right;\n",
              "    }\n",
              "</style>\n",
              "<table border=\"1\" class=\"dataframe\">\n",
              "  <thead>\n",
              "    <tr style=\"text-align: right;\">\n",
              "      <th></th>\n",
              "      <th>title</th>\n",
              "      <th>text</th>\n",
              "      <th>subject</th>\n",
              "      <th>date</th>\n",
              "    </tr>\n",
              "  </thead>\n",
              "  <tbody>\n",
              "    <tr>\n",
              "      <th>0</th>\n",
              "      <td>As U.S. budget fight looms, Republicans flip t...</td>\n",
              "      <td>WASHINGTON (Reuters) - The head of a conservat...</td>\n",
              "      <td>politicsNews</td>\n",
              "      <td>December 31, 2017</td>\n",
              "    </tr>\n",
              "    <tr>\n",
              "      <th>1</th>\n",
              "      <td>U.S. military to accept transgender recruits o...</td>\n",
              "      <td>WASHINGTON (Reuters) - Transgender people will...</td>\n",
              "      <td>politicsNews</td>\n",
              "      <td>December 29, 2017</td>\n",
              "    </tr>\n",
              "    <tr>\n",
              "      <th>2</th>\n",
              "      <td>Senior U.S. Republican senator: 'Let Mr. Muell...</td>\n",
              "      <td>WASHINGTON (Reuters) - The special counsel inv...</td>\n",
              "      <td>politicsNews</td>\n",
              "      <td>December 31, 2017</td>\n",
              "    </tr>\n",
              "    <tr>\n",
              "      <th>3</th>\n",
              "      <td>FBI Russia probe helped by Australian diplomat...</td>\n",
              "      <td>WASHINGTON (Reuters) - Trump campaign adviser ...</td>\n",
              "      <td>politicsNews</td>\n",
              "      <td>December 30, 2017</td>\n",
              "    </tr>\n",
              "    <tr>\n",
              "      <th>4</th>\n",
              "      <td>Trump wants Postal Service to charge 'much mor...</td>\n",
              "      <td>SEATTLE/WASHINGTON (Reuters) - President Donal...</td>\n",
              "      <td>politicsNews</td>\n",
              "      <td>December 29, 2017</td>\n",
              "    </tr>\n",
              "  </tbody>\n",
              "</table>\n",
              "</div>\n",
              "      <button class=\"colab-df-convert\" onclick=\"convertToInteractive('df-61064a74-a3f0-4c72-948d-84d6e3c400ae')\"\n",
              "              title=\"Convert this dataframe to an interactive table.\"\n",
              "              style=\"display:none;\">\n",
              "        \n",
              "  <svg xmlns=\"http://www.w3.org/2000/svg\" height=\"24px\"viewBox=\"0 0 24 24\"\n",
              "       width=\"24px\">\n",
              "    <path d=\"M0 0h24v24H0V0z\" fill=\"none\"/>\n",
              "    <path d=\"M18.56 5.44l.94 2.06.94-2.06 2.06-.94-2.06-.94-.94-2.06-.94 2.06-2.06.94zm-11 1L8.5 8.5l.94-2.06 2.06-.94-2.06-.94L8.5 2.5l-.94 2.06-2.06.94zm10 10l.94 2.06.94-2.06 2.06-.94-2.06-.94-.94-2.06-.94 2.06-2.06.94z\"/><path d=\"M17.41 7.96l-1.37-1.37c-.4-.4-.92-.59-1.43-.59-.52 0-1.04.2-1.43.59L10.3 9.45l-7.72 7.72c-.78.78-.78 2.05 0 2.83L4 21.41c.39.39.9.59 1.41.59.51 0 1.02-.2 1.41-.59l7.78-7.78 2.81-2.81c.8-.78.8-2.07 0-2.86zM5.41 20L4 18.59l7.72-7.72 1.47 1.35L5.41 20z\"/>\n",
              "  </svg>\n",
              "      </button>\n",
              "      \n",
              "  <style>\n",
              "    .colab-df-container {\n",
              "      display:flex;\n",
              "      flex-wrap:wrap;\n",
              "      gap: 12px;\n",
              "    }\n",
              "\n",
              "    .colab-df-convert {\n",
              "      background-color: #E8F0FE;\n",
              "      border: none;\n",
              "      border-radius: 50%;\n",
              "      cursor: pointer;\n",
              "      display: none;\n",
              "      fill: #1967D2;\n",
              "      height: 32px;\n",
              "      padding: 0 0 0 0;\n",
              "      width: 32px;\n",
              "    }\n",
              "\n",
              "    .colab-df-convert:hover {\n",
              "      background-color: #E2EBFA;\n",
              "      box-shadow: 0px 1px 2px rgba(60, 64, 67, 0.3), 0px 1px 3px 1px rgba(60, 64, 67, 0.15);\n",
              "      fill: #174EA6;\n",
              "    }\n",
              "\n",
              "    [theme=dark] .colab-df-convert {\n",
              "      background-color: #3B4455;\n",
              "      fill: #D2E3FC;\n",
              "    }\n",
              "\n",
              "    [theme=dark] .colab-df-convert:hover {\n",
              "      background-color: #434B5C;\n",
              "      box-shadow: 0px 1px 3px 1px rgba(0, 0, 0, 0.15);\n",
              "      filter: drop-shadow(0px 1px 2px rgba(0, 0, 0, 0.3));\n",
              "      fill: #FFFFFF;\n",
              "    }\n",
              "  </style>\n",
              "\n",
              "      <script>\n",
              "        const buttonEl =\n",
              "          document.querySelector('#df-61064a74-a3f0-4c72-948d-84d6e3c400ae button.colab-df-convert');\n",
              "        buttonEl.style.display =\n",
              "          google.colab.kernel.accessAllowed ? 'block' : 'none';\n",
              "\n",
              "        async function convertToInteractive(key) {\n",
              "          const element = document.querySelector('#df-61064a74-a3f0-4c72-948d-84d6e3c400ae');\n",
              "          const dataTable =\n",
              "            await google.colab.kernel.invokeFunction('convertToInteractive',\n",
              "                                                     [key], {});\n",
              "          if (!dataTable) return;\n",
              "\n",
              "          const docLinkHtml = 'Like what you see? Visit the ' +\n",
              "            '<a target=\"_blank\" href=https://colab.research.google.com/notebooks/data_table.ipynb>data table notebook</a>'\n",
              "            + ' to learn more about interactive tables.';\n",
              "          element.innerHTML = '';\n",
              "          dataTable['output_type'] = 'display_data';\n",
              "          await google.colab.output.renderOutput(dataTable, element);\n",
              "          const docLink = document.createElement('div');\n",
              "          docLink.innerHTML = docLinkHtml;\n",
              "          element.appendChild(docLink);\n",
              "        }\n",
              "      </script>\n",
              "    </div>\n",
              "  </div>\n",
              "  "
            ]
          },
          "metadata": {},
          "execution_count": 106
        }
      ],
      "source": [
        "true_df.head()"
      ]
    },
    {
      "cell_type": "code",
      "execution_count": null,
      "metadata": {
        "colab": {
          "base_uri": "https://localhost:8080/"
        },
        "id": "moxbou1n1Rj0",
        "outputId": "0831abc7-b7e1-4c96-a354-7edc084a1192"
      },
      "outputs": [
        {
          "output_type": "execute_result",
          "data": {
            "text/plain": [
              "Index(['title', 'text', 'subject', 'date'], dtype='object')"
            ]
          },
          "metadata": {},
          "execution_count": 107
        }
      ],
      "source": [
        "fake_df.columns"
      ]
    },
    {
      "cell_type": "code",
      "execution_count": null,
      "metadata": {
        "colab": {
          "base_uri": "https://localhost:8080/"
        },
        "id": "P2Ahuci52z8K",
        "outputId": "aa3ef2fa-6685-4134-b057-ccbfbd1522cf"
      },
      "outputs": [
        {
          "output_type": "execute_result",
          "data": {
            "text/plain": [
              "News               9050\n",
              "politics           6841\n",
              "left-news          4459\n",
              "Government News    1570\n",
              "US_News             783\n",
              "Middle-east         778\n",
              "Name: subject, dtype: int64"
            ]
          },
          "metadata": {},
          "execution_count": 108
        }
      ],
      "source": [
        "#check the number of subjects\n",
        "fake_df['subject'].value_counts()"
      ]
    },
    {
      "cell_type": "code",
      "execution_count": null,
      "metadata": {
        "id": "CrhYCq1w28v4"
      },
      "outputs": [],
      "source": [
        "#check for unknown publishers\n",
        "from logging import exception\n",
        "unknown_publishers = []\n",
        "for index, row in enumerate(true_df.text.values):\n",
        "  try:\n",
        "    record = row.split(' - ', maxsplit = 1)\n",
        "    record[1]\n",
        "\n",
        "    assert(len(record[0])<2120)\n",
        "  except:\n",
        "    unknown_publishers.append(index)"
      ]
    },
    {
      "cell_type": "code",
      "execution_count": null,
      "metadata": {
        "colab": {
          "base_uri": "https://localhost:8080/"
        },
        "id": "5JyXqDlr3JMk",
        "outputId": "4cb19bb3-3ba9-4060-fd37-c265a148d312"
      },
      "outputs": [
        {
          "output_type": "execute_result",
          "data": {
            "text/plain": [
              "2922    The following statements were posted to the ve...\n",
              "3488    The White House on Wednesday disclosed a group...\n",
              "3782    The following statements were posted to the ve...\n",
              "4358    Neil Gorsuch, President Donald Trump’s appoint...\n",
              "4465    WASHINGTON The clock began running out this we...\n",
              "5290    The following statements were posted to the ve...\n",
              "5588    The following statements were posted to the ve...\n",
              "5761    The following bullet points are from the U.S. ...\n",
              "5784    Federal appeals court judge Neil Gorsuch, the ...\n",
              "6026    The following bullet points are from the U.S. ...\n",
              "6184    The following bullet points are from the U.S. ...\n",
              "6660    Republican members of Congress are complaining...\n",
              "6823    Over the course of the U.S. presidential campa...\n",
              "7922    After going through a week reminiscent of Napo...\n",
              "8194    The following timeline charts the origin and s...\n",
              "8195    Global health officials are racing to better u...\n",
              "8247    U.S. President Barack Obama visited a street m...\n",
              "8465    ALGONAC, MICH.—Parker Fox drifted out of the D...\n",
              "8481    Global health officials are racing to better u...\n",
              "8482    The following timeline charts the origin and s...\n",
              "8505    Global health officials are racing to better u...\n",
              "8506    The following timeline charts the origin and s...\n",
              "8771    In a speech weighted with America’s complicate...\n",
              "8970                                                     \n",
              "9008    The following timeline charts the origin and s...\n",
              "9009    Global health officials are racing to better u...\n",
              "9307    It’s the near future, and North Korea’s regime...\n",
              "9618    GOP leaders have unleashed a stunning level of...\n",
              "9737    Caitlyn Jenner posted a video on Wednesday (Ap...\n",
              "Name: text, dtype: object"
            ]
          },
          "metadata": {},
          "execution_count": 110
        }
      ],
      "source": [
        "true_df.iloc[unknown_publishers].text"
      ]
    },
    {
      "cell_type": "code",
      "execution_count": null,
      "metadata": {
        "id": "48kagiBC9632"
      },
      "outputs": [],
      "source": [
        "publisher  = []\n",
        "tmp_text = []\n",
        "\n",
        "for index, row in enumerate(true_df.text.values):\n",
        "  if index in unknown_publishers:\n",
        "    tmp_text.append(row)\n",
        "    publisher.append('Unknown')\n",
        "\n",
        "  else:\n",
        "    record = row.split('-', maxsplit = 1)\n",
        "    publisher.append(record[0].strip())\n",
        "    tmp_text.append(record[1].strip())"
      ]
    },
    {
      "cell_type": "code",
      "execution_count": null,
      "metadata": {
        "id": "5O1U0BCu-PeB"
      },
      "outputs": [],
      "source": [
        "true_df['publisher'] = publisher\n",
        "true_df['text'] = tmp_text"
      ]
    },
    {
      "cell_type": "code",
      "execution_count": null,
      "metadata": {
        "colab": {
          "base_uri": "https://localhost:8080/"
        },
        "id": "vUadvv0P-TSL",
        "outputId": "fe0b5420-24d0-4811-e61b-868565dce3ef"
      },
      "outputs": [
        {
          "output_type": "execute_result",
          "data": {
            "text/plain": [
              "(21417, 5)"
            ]
          },
          "metadata": {},
          "execution_count": 113
        }
      ],
      "source": [
        "true_df.shape"
      ]
    },
    {
      "cell_type": "code",
      "execution_count": null,
      "metadata": {
        "id": "5dANsebgf85y"
      },
      "outputs": [],
      "source": [
        "empty_df_f = [index for index, text in enumerate( fake_df.text.tolist()) if str(text).strip()==\"\"]"
      ]
    },
    {
      "cell_type": "code",
      "execution_count": null,
      "metadata": {
        "colab": {
          "base_uri": "https://localhost:8080/",
          "height": 423
        },
        "id": "vcyoVZIjgGu8",
        "outputId": "8514308f-3a1c-42a0-bd74-046472d9cece"
      },
      "outputs": [
        {
          "output_type": "execute_result",
          "data": {
            "text/plain": [
              "                                                   title text    subject  \\\n",
              "10923  TAKE OUR POLL: Who Do You Think President Trum...        politics   \n",
              "11041  Joe Scarborough BERATES Mika Brzezinski Over “...        politics   \n",
              "11190  WATCH TUCKER CARLSON Scorch Sanctuary City May...        politics   \n",
              "11225  MAYOR OF SANCTUARY CITY: Trump Trying To Make ...        politics   \n",
              "11236  SHOCKER: Public School Turns Computer Lab Into...        politics   \n",
              "...                                                  ...  ...        ...   \n",
              "21816  BALTIMORE BURNS: MARYLAND GOVERNOR BRINGS IN N...       left-news   \n",
              "21826  FULL VIDEO: THE BLOCKBUSTER INVESTIGATION INTO...       left-news   \n",
              "21827  (VIDEO) HILLARY CLINTON: RELIGIOUS BELIEFS MUS...       left-news   \n",
              "21857  (VIDEO)ICE PROTECTING OBAMA: WON’T RELEASE NAM...       left-news   \n",
              "21873  (VIDEO) HYSTERICAL SNL TAKE ON HILLARY’S ANNOU...       left-news   \n",
              "\n",
              "               date  \n",
              "10923  May 10, 2017  \n",
              "11041  Apr 26, 2017  \n",
              "11190   Apr 6, 2017  \n",
              "11225   Apr 2, 2017  \n",
              "11236   Apr 1, 2017  \n",
              "...             ...  \n",
              "21816  Apr 27, 2015  \n",
              "21826  Apr 25, 2015  \n",
              "21827  Apr 25, 2015  \n",
              "21857  Apr 14, 2015  \n",
              "21873  Apr 12, 2015  \n",
              "\n",
              "[630 rows x 4 columns]"
            ],
            "text/html": [
              "\n",
              "  <div id=\"df-66453b44-7543-405a-bd1b-c9e99ea5f444\">\n",
              "    <div class=\"colab-df-container\">\n",
              "      <div>\n",
              "<style scoped>\n",
              "    .dataframe tbody tr th:only-of-type {\n",
              "        vertical-align: middle;\n",
              "    }\n",
              "\n",
              "    .dataframe tbody tr th {\n",
              "        vertical-align: top;\n",
              "    }\n",
              "\n",
              "    .dataframe thead th {\n",
              "        text-align: right;\n",
              "    }\n",
              "</style>\n",
              "<table border=\"1\" class=\"dataframe\">\n",
              "  <thead>\n",
              "    <tr style=\"text-align: right;\">\n",
              "      <th></th>\n",
              "      <th>title</th>\n",
              "      <th>text</th>\n",
              "      <th>subject</th>\n",
              "      <th>date</th>\n",
              "    </tr>\n",
              "  </thead>\n",
              "  <tbody>\n",
              "    <tr>\n",
              "      <th>10923</th>\n",
              "      <td>TAKE OUR POLL: Who Do You Think President Trum...</td>\n",
              "      <td></td>\n",
              "      <td>politics</td>\n",
              "      <td>May 10, 2017</td>\n",
              "    </tr>\n",
              "    <tr>\n",
              "      <th>11041</th>\n",
              "      <td>Joe Scarborough BERATES Mika Brzezinski Over “...</td>\n",
              "      <td></td>\n",
              "      <td>politics</td>\n",
              "      <td>Apr 26, 2017</td>\n",
              "    </tr>\n",
              "    <tr>\n",
              "      <th>11190</th>\n",
              "      <td>WATCH TUCKER CARLSON Scorch Sanctuary City May...</td>\n",
              "      <td></td>\n",
              "      <td>politics</td>\n",
              "      <td>Apr 6, 2017</td>\n",
              "    </tr>\n",
              "    <tr>\n",
              "      <th>11225</th>\n",
              "      <td>MAYOR OF SANCTUARY CITY: Trump Trying To Make ...</td>\n",
              "      <td></td>\n",
              "      <td>politics</td>\n",
              "      <td>Apr 2, 2017</td>\n",
              "    </tr>\n",
              "    <tr>\n",
              "      <th>11236</th>\n",
              "      <td>SHOCKER: Public School Turns Computer Lab Into...</td>\n",
              "      <td></td>\n",
              "      <td>politics</td>\n",
              "      <td>Apr 1, 2017</td>\n",
              "    </tr>\n",
              "    <tr>\n",
              "      <th>...</th>\n",
              "      <td>...</td>\n",
              "      <td>...</td>\n",
              "      <td>...</td>\n",
              "      <td>...</td>\n",
              "    </tr>\n",
              "    <tr>\n",
              "      <th>21816</th>\n",
              "      <td>BALTIMORE BURNS: MARYLAND GOVERNOR BRINGS IN N...</td>\n",
              "      <td></td>\n",
              "      <td>left-news</td>\n",
              "      <td>Apr 27, 2015</td>\n",
              "    </tr>\n",
              "    <tr>\n",
              "      <th>21826</th>\n",
              "      <td>FULL VIDEO: THE BLOCKBUSTER INVESTIGATION INTO...</td>\n",
              "      <td></td>\n",
              "      <td>left-news</td>\n",
              "      <td>Apr 25, 2015</td>\n",
              "    </tr>\n",
              "    <tr>\n",
              "      <th>21827</th>\n",
              "      <td>(VIDEO) HILLARY CLINTON: RELIGIOUS BELIEFS MUS...</td>\n",
              "      <td></td>\n",
              "      <td>left-news</td>\n",
              "      <td>Apr 25, 2015</td>\n",
              "    </tr>\n",
              "    <tr>\n",
              "      <th>21857</th>\n",
              "      <td>(VIDEO)ICE PROTECTING OBAMA: WON’T RELEASE NAM...</td>\n",
              "      <td></td>\n",
              "      <td>left-news</td>\n",
              "      <td>Apr 14, 2015</td>\n",
              "    </tr>\n",
              "    <tr>\n",
              "      <th>21873</th>\n",
              "      <td>(VIDEO) HYSTERICAL SNL TAKE ON HILLARY’S ANNOU...</td>\n",
              "      <td></td>\n",
              "      <td>left-news</td>\n",
              "      <td>Apr 12, 2015</td>\n",
              "    </tr>\n",
              "  </tbody>\n",
              "</table>\n",
              "<p>630 rows × 4 columns</p>\n",
              "</div>\n",
              "      <button class=\"colab-df-convert\" onclick=\"convertToInteractive('df-66453b44-7543-405a-bd1b-c9e99ea5f444')\"\n",
              "              title=\"Convert this dataframe to an interactive table.\"\n",
              "              style=\"display:none;\">\n",
              "        \n",
              "  <svg xmlns=\"http://www.w3.org/2000/svg\" height=\"24px\"viewBox=\"0 0 24 24\"\n",
              "       width=\"24px\">\n",
              "    <path d=\"M0 0h24v24H0V0z\" fill=\"none\"/>\n",
              "    <path d=\"M18.56 5.44l.94 2.06.94-2.06 2.06-.94-2.06-.94-.94-2.06-.94 2.06-2.06.94zm-11 1L8.5 8.5l.94-2.06 2.06-.94-2.06-.94L8.5 2.5l-.94 2.06-2.06.94zm10 10l.94 2.06.94-2.06 2.06-.94-2.06-.94-.94-2.06-.94 2.06-2.06.94z\"/><path d=\"M17.41 7.96l-1.37-1.37c-.4-.4-.92-.59-1.43-.59-.52 0-1.04.2-1.43.59L10.3 9.45l-7.72 7.72c-.78.78-.78 2.05 0 2.83L4 21.41c.39.39.9.59 1.41.59.51 0 1.02-.2 1.41-.59l7.78-7.78 2.81-2.81c.8-.78.8-2.07 0-2.86zM5.41 20L4 18.59l7.72-7.72 1.47 1.35L5.41 20z\"/>\n",
              "  </svg>\n",
              "      </button>\n",
              "      \n",
              "  <style>\n",
              "    .colab-df-container {\n",
              "      display:flex;\n",
              "      flex-wrap:wrap;\n",
              "      gap: 12px;\n",
              "    }\n",
              "\n",
              "    .colab-df-convert {\n",
              "      background-color: #E8F0FE;\n",
              "      border: none;\n",
              "      border-radius: 50%;\n",
              "      cursor: pointer;\n",
              "      display: none;\n",
              "      fill: #1967D2;\n",
              "      height: 32px;\n",
              "      padding: 0 0 0 0;\n",
              "      width: 32px;\n",
              "    }\n",
              "\n",
              "    .colab-df-convert:hover {\n",
              "      background-color: #E2EBFA;\n",
              "      box-shadow: 0px 1px 2px rgba(60, 64, 67, 0.3), 0px 1px 3px 1px rgba(60, 64, 67, 0.15);\n",
              "      fill: #174EA6;\n",
              "    }\n",
              "\n",
              "    [theme=dark] .colab-df-convert {\n",
              "      background-color: #3B4455;\n",
              "      fill: #D2E3FC;\n",
              "    }\n",
              "\n",
              "    [theme=dark] .colab-df-convert:hover {\n",
              "      background-color: #434B5C;\n",
              "      box-shadow: 0px 1px 3px 1px rgba(0, 0, 0, 0.15);\n",
              "      filter: drop-shadow(0px 1px 2px rgba(0, 0, 0, 0.3));\n",
              "      fill: #FFFFFF;\n",
              "    }\n",
              "  </style>\n",
              "\n",
              "      <script>\n",
              "        const buttonEl =\n",
              "          document.querySelector('#df-66453b44-7543-405a-bd1b-c9e99ea5f444 button.colab-df-convert');\n",
              "        buttonEl.style.display =\n",
              "          google.colab.kernel.accessAllowed ? 'block' : 'none';\n",
              "\n",
              "        async function convertToInteractive(key) {\n",
              "          const element = document.querySelector('#df-66453b44-7543-405a-bd1b-c9e99ea5f444');\n",
              "          const dataTable =\n",
              "            await google.colab.kernel.invokeFunction('convertToInteractive',\n",
              "                                                     [key], {});\n",
              "          if (!dataTable) return;\n",
              "\n",
              "          const docLinkHtml = 'Like what you see? Visit the ' +\n",
              "            '<a target=\"_blank\" href=https://colab.research.google.com/notebooks/data_table.ipynb>data table notebook</a>'\n",
              "            + ' to learn more about interactive tables.';\n",
              "          element.innerHTML = '';\n",
              "          dataTable['output_type'] = 'display_data';\n",
              "          await google.colab.output.renderOutput(dataTable, element);\n",
              "          const docLink = document.createElement('div');\n",
              "          docLink.innerHTML = docLinkHtml;\n",
              "          element.appendChild(docLink);\n",
              "        }\n",
              "      </script>\n",
              "    </div>\n",
              "  </div>\n",
              "  "
            ]
          },
          "metadata": {},
          "execution_count": 115
        }
      ],
      "source": [
        "#remove the unknown publishers\n",
        "fake_df.iloc[empty_df_f]"
      ]
    },
    {
      "cell_type": "code",
      "execution_count": null,
      "metadata": {
        "id": "k4G8Gy5igK1t"
      },
      "outputs": [],
      "source": [
        "#joinining the texts and titles\n",
        "true_df['text'] = true_df['title']+ \" \"+ true_df['text']\n",
        "true_df['text'] = true_df['title']+ \" \"+ true_df['text']"
      ]
    },
    {
      "cell_type": "code",
      "execution_count": null,
      "metadata": {
        "id": "r6WgJSfMgN0N"
      },
      "outputs": [],
      "source": [
        "true_df['text'] = true_df['text'].apply(lambda x: str(x).lower())"
      ]
    },
    {
      "cell_type": "code",
      "execution_count": null,
      "metadata": {
        "id": "htoi0MyTgdh5"
      },
      "outputs": [],
      "source": [
        "true_df['class'] = 1\n",
        "fake_df['class'] = 0"
      ]
    },
    {
      "cell_type": "code",
      "execution_count": null,
      "metadata": {
        "colab": {
          "base_uri": "https://localhost:8080/"
        },
        "id": "OfSk5vrFgjIk",
        "outputId": "62adab8d-9f7c-44c2-fe51-4976ce99070b"
      },
      "outputs": [
        {
          "output_type": "stream",
          "name": "stderr",
          "text": [
            "<ipython-input-119-4a84c9ff6e42>:1: FutureWarning: The frame.append method is deprecated and will be removed from pandas in a future version. Use pandas.concat instead.\n",
            "  df = true_df.append(fake_df, ignore_index = True)\n"
          ]
        }
      ],
      "source": [
        "df = true_df.append(fake_df, ignore_index = True)"
      ]
    },
    {
      "cell_type": "code",
      "execution_count": null,
      "metadata": {
        "id": "rGZlEieUhJmF"
      },
      "outputs": [],
      "source": [
        "df = df.drop(['title','subject','date','publisher'], axis = 1)"
      ]
    },
    {
      "cell_type": "code",
      "execution_count": null,
      "metadata": {
        "colab": {
          "base_uri": "https://localhost:8080/"
        },
        "id": "BKBhEvlXqItv",
        "outputId": "998af100-1e81-47b8-fae6-7a00a7b5c32e"
      },
      "outputs": [
        {
          "output_type": "execute_result",
          "data": {
            "text/plain": [
              "(44898, 2)"
            ]
          },
          "metadata": {},
          "execution_count": 121
        }
      ],
      "source": [
        "df.shape"
      ]
    },
    {
      "cell_type": "code",
      "execution_count": null,
      "metadata": {
        "colab": {
          "base_uri": "https://localhost:8080/",
          "height": 206
        },
        "id": "pQBornbJhMKq",
        "outputId": "a2400953-3ac3-438b-baf9-22582a806761"
      },
      "outputs": [
        {
          "output_type": "execute_result",
          "data": {
            "text/plain": [
              "                                                    text  class\n",
              "7316   illinois governor reports $188.1 million in 20...      1\n",
              "21059  libyan forces attack islamic state near former...      1\n",
              "31243  When Will & Grace creators David Kohan and Max...      0\n",
              "5970   exclusive: expecting trump action, u.s. suspen...      1\n",
              "16945  attack on workers at key pakistan port for chi...      1"
            ],
            "text/html": [
              "\n",
              "  <div id=\"df-1d9ef33d-78a0-4579-9396-2ae368bd1dec\">\n",
              "    <div class=\"colab-df-container\">\n",
              "      <div>\n",
              "<style scoped>\n",
              "    .dataframe tbody tr th:only-of-type {\n",
              "        vertical-align: middle;\n",
              "    }\n",
              "\n",
              "    .dataframe tbody tr th {\n",
              "        vertical-align: top;\n",
              "    }\n",
              "\n",
              "    .dataframe thead th {\n",
              "        text-align: right;\n",
              "    }\n",
              "</style>\n",
              "<table border=\"1\" class=\"dataframe\">\n",
              "  <thead>\n",
              "    <tr style=\"text-align: right;\">\n",
              "      <th></th>\n",
              "      <th>text</th>\n",
              "      <th>class</th>\n",
              "    </tr>\n",
              "  </thead>\n",
              "  <tbody>\n",
              "    <tr>\n",
              "      <th>7316</th>\n",
              "      <td>illinois governor reports $188.1 million in 20...</td>\n",
              "      <td>1</td>\n",
              "    </tr>\n",
              "    <tr>\n",
              "      <th>21059</th>\n",
              "      <td>libyan forces attack islamic state near former...</td>\n",
              "      <td>1</td>\n",
              "    </tr>\n",
              "    <tr>\n",
              "      <th>31243</th>\n",
              "      <td>When Will &amp; Grace creators David Kohan and Max...</td>\n",
              "      <td>0</td>\n",
              "    </tr>\n",
              "    <tr>\n",
              "      <th>5970</th>\n",
              "      <td>exclusive: expecting trump action, u.s. suspen...</td>\n",
              "      <td>1</td>\n",
              "    </tr>\n",
              "    <tr>\n",
              "      <th>16945</th>\n",
              "      <td>attack on workers at key pakistan port for chi...</td>\n",
              "      <td>1</td>\n",
              "    </tr>\n",
              "  </tbody>\n",
              "</table>\n",
              "</div>\n",
              "      <button class=\"colab-df-convert\" onclick=\"convertToInteractive('df-1d9ef33d-78a0-4579-9396-2ae368bd1dec')\"\n",
              "              title=\"Convert this dataframe to an interactive table.\"\n",
              "              style=\"display:none;\">\n",
              "        \n",
              "  <svg xmlns=\"http://www.w3.org/2000/svg\" height=\"24px\"viewBox=\"0 0 24 24\"\n",
              "       width=\"24px\">\n",
              "    <path d=\"M0 0h24v24H0V0z\" fill=\"none\"/>\n",
              "    <path d=\"M18.56 5.44l.94 2.06.94-2.06 2.06-.94-2.06-.94-.94-2.06-.94 2.06-2.06.94zm-11 1L8.5 8.5l.94-2.06 2.06-.94-2.06-.94L8.5 2.5l-.94 2.06-2.06.94zm10 10l.94 2.06.94-2.06 2.06-.94-2.06-.94-.94-2.06-.94 2.06-2.06.94z\"/><path d=\"M17.41 7.96l-1.37-1.37c-.4-.4-.92-.59-1.43-.59-.52 0-1.04.2-1.43.59L10.3 9.45l-7.72 7.72c-.78.78-.78 2.05 0 2.83L4 21.41c.39.39.9.59 1.41.59.51 0 1.02-.2 1.41-.59l7.78-7.78 2.81-2.81c.8-.78.8-2.07 0-2.86zM5.41 20L4 18.59l7.72-7.72 1.47 1.35L5.41 20z\"/>\n",
              "  </svg>\n",
              "      </button>\n",
              "      \n",
              "  <style>\n",
              "    .colab-df-container {\n",
              "      display:flex;\n",
              "      flex-wrap:wrap;\n",
              "      gap: 12px;\n",
              "    }\n",
              "\n",
              "    .colab-df-convert {\n",
              "      background-color: #E8F0FE;\n",
              "      border: none;\n",
              "      border-radius: 50%;\n",
              "      cursor: pointer;\n",
              "      display: none;\n",
              "      fill: #1967D2;\n",
              "      height: 32px;\n",
              "      padding: 0 0 0 0;\n",
              "      width: 32px;\n",
              "    }\n",
              "\n",
              "    .colab-df-convert:hover {\n",
              "      background-color: #E2EBFA;\n",
              "      box-shadow: 0px 1px 2px rgba(60, 64, 67, 0.3), 0px 1px 3px 1px rgba(60, 64, 67, 0.15);\n",
              "      fill: #174EA6;\n",
              "    }\n",
              "\n",
              "    [theme=dark] .colab-df-convert {\n",
              "      background-color: #3B4455;\n",
              "      fill: #D2E3FC;\n",
              "    }\n",
              "\n",
              "    [theme=dark] .colab-df-convert:hover {\n",
              "      background-color: #434B5C;\n",
              "      box-shadow: 0px 1px 3px 1px rgba(0, 0, 0, 0.15);\n",
              "      filter: drop-shadow(0px 1px 2px rgba(0, 0, 0, 0.3));\n",
              "      fill: #FFFFFF;\n",
              "    }\n",
              "  </style>\n",
              "\n",
              "      <script>\n",
              "        const buttonEl =\n",
              "          document.querySelector('#df-1d9ef33d-78a0-4579-9396-2ae368bd1dec button.colab-df-convert');\n",
              "        buttonEl.style.display =\n",
              "          google.colab.kernel.accessAllowed ? 'block' : 'none';\n",
              "\n",
              "        async function convertToInteractive(key) {\n",
              "          const element = document.querySelector('#df-1d9ef33d-78a0-4579-9396-2ae368bd1dec');\n",
              "          const dataTable =\n",
              "            await google.colab.kernel.invokeFunction('convertToInteractive',\n",
              "                                                     [key], {});\n",
              "          if (!dataTable) return;\n",
              "\n",
              "          const docLinkHtml = 'Like what you see? Visit the ' +\n",
              "            '<a target=\"_blank\" href=https://colab.research.google.com/notebooks/data_table.ipynb>data table notebook</a>'\n",
              "            + ' to learn more about interactive tables.';\n",
              "          element.innerHTML = '';\n",
              "          dataTable['output_type'] = 'display_data';\n",
              "          await google.colab.output.renderOutput(dataTable, element);\n",
              "          const docLink = document.createElement('div');\n",
              "          docLink.innerHTML = docLinkHtml;\n",
              "          element.appendChild(docLink);\n",
              "        }\n",
              "      </script>\n",
              "    </div>\n",
              "  </div>\n",
              "  "
            ]
          },
          "metadata": {},
          "execution_count": 122
        }
      ],
      "source": [
        "df.sample(5)"
      ]
    },
    {
      "cell_type": "code",
      "execution_count": null,
      "metadata": {
        "colab": {
          "base_uri": "https://localhost:8080/",
          "height": 337
        },
        "id": "OntagKHnhoxK",
        "outputId": "2ca3fb6d-c757-4258-b71f-45fd19018352"
      },
      "outputs": [
        {
          "output_type": "execute_result",
          "data": {
            "text/plain": [
              "   index        json       class  \\\n",
              "0      0  11972.json        true   \n",
              "1      1  11685.json       false   \n",
              "2      2  11096.json       false   \n",
              "3      3   5209.json   half-true   \n",
              "4      4   9524.json  pants-fire   \n",
              "\n",
              "                                               title  \\\n",
              "0  Building a wall on the U.S.-Mexico border will...   \n",
              "1  Wisconsin is on pace to double the number of l...   \n",
              "2  Says John McCain has done nothing to help the ...   \n",
              "3  Suzanne Bonamici supports a plan that will cut...   \n",
              "4  When asked by a reporter whether hes at the ce...   \n",
              "\n",
              "                                               topic  \\\n",
              "0                                        immigration   \n",
              "1                                               jobs   \n",
              "2                    military,veterans,voting-record   \n",
              "3  medicare,message-machine-2012,campaign-adverti...   \n",
              "4  campaign-finance,legal-issues,campaign-adverti...   \n",
              "\n",
              "                          publisher                   rep      state  \\\n",
              "0                        rick-perry              Governor      Texas   \n",
              "1                 katrina-shankland  State representative  Wisconsin   \n",
              "2                      donald-trump       President-Elect   New York   \n",
              "3                     rob-cornilles            consultant     Oregon   \n",
              "4  state-democratic-party-wisconsin                   NaN  Wisconsin   \n",
              "\n",
              "            1   2    3   4   5   6                        person  \\\n",
              "0  republican  30   30  42  23  18               Radio interview   \n",
              "1    democrat   2    1   0   0   0             a news conference   \n",
              "2  republican  63  114  51  37  61  comments on ABC's This Week.   \n",
              "3  republican   1    1   3   1   1                  a radio show   \n",
              "4    democrat   5    7   2   2   7                   a web video   \n",
              "\n",
              "                                                text  \n",
              "0  Meantime, engineering experts agree the wall w...  \n",
              "1  She cited layoff notices received by the state...  \n",
              "2  Trump said that McCain \"has done nothing to he...  \n",
              "3  But spending still goes up. In addition, many ...  \n",
              "4  Our rating A Democratic Party web video making...  "
            ],
            "text/html": [
              "\n",
              "  <div id=\"df-925f059b-89e3-4629-9426-dc9d6e14b170\">\n",
              "    <div class=\"colab-df-container\">\n",
              "      <div>\n",
              "<style scoped>\n",
              "    .dataframe tbody tr th:only-of-type {\n",
              "        vertical-align: middle;\n",
              "    }\n",
              "\n",
              "    .dataframe tbody tr th {\n",
              "        vertical-align: top;\n",
              "    }\n",
              "\n",
              "    .dataframe thead th {\n",
              "        text-align: right;\n",
              "    }\n",
              "</style>\n",
              "<table border=\"1\" class=\"dataframe\">\n",
              "  <thead>\n",
              "    <tr style=\"text-align: right;\">\n",
              "      <th></th>\n",
              "      <th>index</th>\n",
              "      <th>json</th>\n",
              "      <th>class</th>\n",
              "      <th>title</th>\n",
              "      <th>topic</th>\n",
              "      <th>publisher</th>\n",
              "      <th>rep</th>\n",
              "      <th>state</th>\n",
              "      <th>1</th>\n",
              "      <th>2</th>\n",
              "      <th>3</th>\n",
              "      <th>4</th>\n",
              "      <th>5</th>\n",
              "      <th>6</th>\n",
              "      <th>person</th>\n",
              "      <th>text</th>\n",
              "    </tr>\n",
              "  </thead>\n",
              "  <tbody>\n",
              "    <tr>\n",
              "      <th>0</th>\n",
              "      <td>0</td>\n",
              "      <td>11972.json</td>\n",
              "      <td>true</td>\n",
              "      <td>Building a wall on the U.S.-Mexico border will...</td>\n",
              "      <td>immigration</td>\n",
              "      <td>rick-perry</td>\n",
              "      <td>Governor</td>\n",
              "      <td>Texas</td>\n",
              "      <td>republican</td>\n",
              "      <td>30</td>\n",
              "      <td>30</td>\n",
              "      <td>42</td>\n",
              "      <td>23</td>\n",
              "      <td>18</td>\n",
              "      <td>Radio interview</td>\n",
              "      <td>Meantime, engineering experts agree the wall w...</td>\n",
              "    </tr>\n",
              "    <tr>\n",
              "      <th>1</th>\n",
              "      <td>1</td>\n",
              "      <td>11685.json</td>\n",
              "      <td>false</td>\n",
              "      <td>Wisconsin is on pace to double the number of l...</td>\n",
              "      <td>jobs</td>\n",
              "      <td>katrina-shankland</td>\n",
              "      <td>State representative</td>\n",
              "      <td>Wisconsin</td>\n",
              "      <td>democrat</td>\n",
              "      <td>2</td>\n",
              "      <td>1</td>\n",
              "      <td>0</td>\n",
              "      <td>0</td>\n",
              "      <td>0</td>\n",
              "      <td>a news conference</td>\n",
              "      <td>She cited layoff notices received by the state...</td>\n",
              "    </tr>\n",
              "    <tr>\n",
              "      <th>2</th>\n",
              "      <td>2</td>\n",
              "      <td>11096.json</td>\n",
              "      <td>false</td>\n",
              "      <td>Says John McCain has done nothing to help the ...</td>\n",
              "      <td>military,veterans,voting-record</td>\n",
              "      <td>donald-trump</td>\n",
              "      <td>President-Elect</td>\n",
              "      <td>New York</td>\n",
              "      <td>republican</td>\n",
              "      <td>63</td>\n",
              "      <td>114</td>\n",
              "      <td>51</td>\n",
              "      <td>37</td>\n",
              "      <td>61</td>\n",
              "      <td>comments on ABC's This Week.</td>\n",
              "      <td>Trump said that McCain \"has done nothing to he...</td>\n",
              "    </tr>\n",
              "    <tr>\n",
              "      <th>3</th>\n",
              "      <td>3</td>\n",
              "      <td>5209.json</td>\n",
              "      <td>half-true</td>\n",
              "      <td>Suzanne Bonamici supports a plan that will cut...</td>\n",
              "      <td>medicare,message-machine-2012,campaign-adverti...</td>\n",
              "      <td>rob-cornilles</td>\n",
              "      <td>consultant</td>\n",
              "      <td>Oregon</td>\n",
              "      <td>republican</td>\n",
              "      <td>1</td>\n",
              "      <td>1</td>\n",
              "      <td>3</td>\n",
              "      <td>1</td>\n",
              "      <td>1</td>\n",
              "      <td>a radio show</td>\n",
              "      <td>But spending still goes up. In addition, many ...</td>\n",
              "    </tr>\n",
              "    <tr>\n",
              "      <th>4</th>\n",
              "      <td>4</td>\n",
              "      <td>9524.json</td>\n",
              "      <td>pants-fire</td>\n",
              "      <td>When asked by a reporter whether hes at the ce...</td>\n",
              "      <td>campaign-finance,legal-issues,campaign-adverti...</td>\n",
              "      <td>state-democratic-party-wisconsin</td>\n",
              "      <td>NaN</td>\n",
              "      <td>Wisconsin</td>\n",
              "      <td>democrat</td>\n",
              "      <td>5</td>\n",
              "      <td>7</td>\n",
              "      <td>2</td>\n",
              "      <td>2</td>\n",
              "      <td>7</td>\n",
              "      <td>a web video</td>\n",
              "      <td>Our rating A Democratic Party web video making...</td>\n",
              "    </tr>\n",
              "  </tbody>\n",
              "</table>\n",
              "</div>\n",
              "      <button class=\"colab-df-convert\" onclick=\"convertToInteractive('df-925f059b-89e3-4629-9426-dc9d6e14b170')\"\n",
              "              title=\"Convert this dataframe to an interactive table.\"\n",
              "              style=\"display:none;\">\n",
              "        \n",
              "  <svg xmlns=\"http://www.w3.org/2000/svg\" height=\"24px\"viewBox=\"0 0 24 24\"\n",
              "       width=\"24px\">\n",
              "    <path d=\"M0 0h24v24H0V0z\" fill=\"none\"/>\n",
              "    <path d=\"M18.56 5.44l.94 2.06.94-2.06 2.06-.94-2.06-.94-.94-2.06-.94 2.06-2.06.94zm-11 1L8.5 8.5l.94-2.06 2.06-.94-2.06-.94L8.5 2.5l-.94 2.06-2.06.94zm10 10l.94 2.06.94-2.06 2.06-.94-2.06-.94-.94-2.06-.94 2.06-2.06.94z\"/><path d=\"M17.41 7.96l-1.37-1.37c-.4-.4-.92-.59-1.43-.59-.52 0-1.04.2-1.43.59L10.3 9.45l-7.72 7.72c-.78.78-.78 2.05 0 2.83L4 21.41c.39.39.9.59 1.41.59.51 0 1.02-.2 1.41-.59l7.78-7.78 2.81-2.81c.8-.78.8-2.07 0-2.86zM5.41 20L4 18.59l7.72-7.72 1.47 1.35L5.41 20z\"/>\n",
              "  </svg>\n",
              "      </button>\n",
              "      \n",
              "  <style>\n",
              "    .colab-df-container {\n",
              "      display:flex;\n",
              "      flex-wrap:wrap;\n",
              "      gap: 12px;\n",
              "    }\n",
              "\n",
              "    .colab-df-convert {\n",
              "      background-color: #E8F0FE;\n",
              "      border: none;\n",
              "      border-radius: 50%;\n",
              "      cursor: pointer;\n",
              "      display: none;\n",
              "      fill: #1967D2;\n",
              "      height: 32px;\n",
              "      padding: 0 0 0 0;\n",
              "      width: 32px;\n",
              "    }\n",
              "\n",
              "    .colab-df-convert:hover {\n",
              "      background-color: #E2EBFA;\n",
              "      box-shadow: 0px 1px 2px rgba(60, 64, 67, 0.3), 0px 1px 3px 1px rgba(60, 64, 67, 0.15);\n",
              "      fill: #174EA6;\n",
              "    }\n",
              "\n",
              "    [theme=dark] .colab-df-convert {\n",
              "      background-color: #3B4455;\n",
              "      fill: #D2E3FC;\n",
              "    }\n",
              "\n",
              "    [theme=dark] .colab-df-convert:hover {\n",
              "      background-color: #434B5C;\n",
              "      box-shadow: 0px 1px 3px 1px rgba(0, 0, 0, 0.15);\n",
              "      filter: drop-shadow(0px 1px 2px rgba(0, 0, 0, 0.3));\n",
              "      fill: #FFFFFF;\n",
              "    }\n",
              "  </style>\n",
              "\n",
              "      <script>\n",
              "        const buttonEl =\n",
              "          document.querySelector('#df-925f059b-89e3-4629-9426-dc9d6e14b170 button.colab-df-convert');\n",
              "        buttonEl.style.display =\n",
              "          google.colab.kernel.accessAllowed ? 'block' : 'none';\n",
              "\n",
              "        async function convertToInteractive(key) {\n",
              "          const element = document.querySelector('#df-925f059b-89e3-4629-9426-dc9d6e14b170');\n",
              "          const dataTable =\n",
              "            await google.colab.kernel.invokeFunction('convertToInteractive',\n",
              "                                                     [key], {});\n",
              "          if (!dataTable) return;\n",
              "\n",
              "          const docLinkHtml = 'Like what you see? Visit the ' +\n",
              "            '<a target=\"_blank\" href=https://colab.research.google.com/notebooks/data_table.ipynb>data table notebook</a>'\n",
              "            + ' to learn more about interactive tables.';\n",
              "          element.innerHTML = '';\n",
              "          dataTable['output_type'] = 'display_data';\n",
              "          await google.colab.output.renderOutput(dataTable, element);\n",
              "          const docLink = document.createElement('div');\n",
              "          docLink.innerHTML = docLinkHtml;\n",
              "          element.appendChild(docLink);\n",
              "        }\n",
              "      </script>\n",
              "    </div>\n",
              "  </div>\n",
              "  "
            ]
          },
          "metadata": {},
          "execution_count": 123
        }
      ],
      "source": [
        "t_df.head()"
      ]
    },
    {
      "cell_type": "markdown",
      "source": [
        "##Working of dataset 2"
      ],
      "metadata": {
        "id": "eTh5Fu9D2qjD"
      }
    },
    {
      "cell_type": "code",
      "execution_count": null,
      "metadata": {
        "id": "ZcZbtLBboNr5"
      },
      "outputs": [],
      "source": [
        "def df_column_switch(df, column1, column2):\n",
        "    i = list(df.columns)\n",
        "    a, b = i.index(column1), i.index(column2)\n",
        "    i[b], i[a] = i[a], i[b]\n",
        "    df = df[i]\n",
        "    return df"
      ]
    },
    {
      "cell_type": "code",
      "execution_count": null,
      "metadata": {
        "id": "IoDMVMeQlUQf"
      },
      "outputs": [],
      "source": [
        "df2 = t_df.drop(['index','json','title','topic','publisher','rep','state','1','2','3','4','5','6','person'], axis =1)"
      ]
    },
    {
      "cell_type": "code",
      "execution_count": null,
      "metadata": {
        "id": "7tn3hgYUlrN3"
      },
      "outputs": [],
      "source": [
        "#extract true from the dataset\n",
        "true_df = df2[df2['class'] == 'true']"
      ]
    },
    {
      "cell_type": "code",
      "execution_count": null,
      "metadata": {
        "id": "qx_G4n1Yl64F"
      },
      "outputs": [],
      "source": [
        "#switch columns\n",
        "true_df = df_column_switch(true_df, \"class\", \"text\")"
      ]
    },
    {
      "cell_type": "code",
      "source": [
        "true_df['text'] = true_df['text'].apply(lambda x: str(x).lower())"
      ],
      "metadata": {
        "id": "BXlrJfWa8KIN"
      },
      "execution_count": null,
      "outputs": []
    },
    {
      "cell_type": "code",
      "execution_count": null,
      "metadata": {
        "id": "ast5PBCzprr5"
      },
      "outputs": [],
      "source": [
        "#extract fake from the dataset\n",
        "fake_df = df2[df2['class'] == 'false']"
      ]
    },
    {
      "cell_type": "code",
      "source": [
        "fake_df['text'] = fake_df['text'].apply(lambda x: str(x).lower())"
      ],
      "metadata": {
        "colab": {
          "base_uri": "https://localhost:8080/"
        },
        "id": "yi4fLeoF8aNl",
        "outputId": "01d56393-cd31-4f10-fb83-217061aee8b7"
      },
      "execution_count": null,
      "outputs": [
        {
          "output_type": "stream",
          "name": "stderr",
          "text": [
            "<ipython-input-130-e127a439346e>:1: SettingWithCopyWarning: \n",
            "A value is trying to be set on a copy of a slice from a DataFrame.\n",
            "Try using .loc[row_indexer,col_indexer] = value instead\n",
            "\n",
            "See the caveats in the documentation: https://pandas.pydata.org/pandas-docs/stable/user_guide/indexing.html#returning-a-view-versus-a-copy\n",
            "  fake_df['text'] = fake_df['text'].apply(lambda x: str(x).lower())\n"
          ]
        }
      ]
    },
    {
      "cell_type": "code",
      "execution_count": null,
      "metadata": {
        "colab": {
          "base_uri": "https://localhost:8080/"
        },
        "id": "qsju25Turi0J",
        "outputId": "0fc277f3-4ab4-4419-a437-cffe171197cb"
      },
      "outputs": [
        {
          "output_type": "stream",
          "name": "stderr",
          "text": [
            "<ipython-input-131-b873194fe3e0>:2: SettingWithCopyWarning: \n",
            "A value is trying to be set on a copy of a slice from a DataFrame.\n",
            "Try using .loc[row_indexer,col_indexer] = value instead\n",
            "\n",
            "See the caveats in the documentation: https://pandas.pydata.org/pandas-docs/stable/user_guide/indexing.html#returning-a-view-versus-a-copy\n",
            "  fake_df['class'] = 0\n"
          ]
        }
      ],
      "source": [
        "true_df['class'] = 1\n",
        "fake_df['class'] = 0"
      ]
    },
    {
      "cell_type": "code",
      "execution_count": null,
      "metadata": {
        "id": "43d9VS1Tp2-F"
      },
      "outputs": [],
      "source": [
        "fake_df = df_column_switch(fake_df, \"class\", \"text\")"
      ]
    },
    {
      "cell_type": "code",
      "execution_count": null,
      "metadata": {
        "colab": {
          "base_uri": "https://localhost:8080/"
        },
        "id": "2fx3Bd6JpMMS",
        "outputId": "f372fa92-63cf-45a0-fa2a-543bc7312ea8"
      },
      "outputs": [
        {
          "output_type": "stream",
          "name": "stderr",
          "text": [
            "<ipython-input-133-a3c483579aa7>:2: FutureWarning: The frame.append method is deprecated and will be removed from pandas in a future version. Use pandas.concat instead.\n",
            "  df = df.append(fake_df, ignore_index = True)\n"
          ]
        }
      ],
      "source": [
        "#concat the fake to the main data\n",
        "df = df.append(fake_df, ignore_index = True)"
      ]
    },
    {
      "cell_type": "code",
      "execution_count": null,
      "metadata": {
        "colab": {
          "base_uri": "https://localhost:8080/"
        },
        "id": "iFzyHrPqqMVW",
        "outputId": "fb3423cd-5612-41d2-b868-779138c9c5c3"
      },
      "outputs": [
        {
          "output_type": "stream",
          "name": "stderr",
          "text": [
            "<ipython-input-134-d61583c44646>:2: FutureWarning: The frame.append method is deprecated and will be removed from pandas in a future version. Use pandas.concat instead.\n",
            "  df = df.append(true_df, ignore_index = True)\n"
          ]
        }
      ],
      "source": [
        "#concat the true to main data\n",
        "df = df.append(true_df, ignore_index = True)"
      ]
    },
    {
      "cell_type": "code",
      "source": [
        "df.shape"
      ],
      "metadata": {
        "colab": {
          "base_uri": "https://localhost:8080/"
        },
        "id": "2PDjjcmb4GB7",
        "outputId": "bc27227c-fc81-41d1-e968-a954b10b2970"
      },
      "execution_count": null,
      "outputs": [
        {
          "output_type": "execute_result",
          "data": {
            "text/plain": [
              "(45355, 2)"
            ]
          },
          "metadata": {},
          "execution_count": 135
        }
      ]
    },
    {
      "cell_type": "markdown",
      "source": [
        "#taking titles as well\n"
      ],
      "metadata": {
        "id": "tWoZ3FTg4KYD"
      }
    },
    {
      "cell_type": "code",
      "source": [
        "df2 = t_df.drop(['index','json','text','topic','publisher','rep','state','1','2','3','4','5','6','person'], axis =1)"
      ],
      "metadata": {
        "id": "S5JfnEa74OYU"
      },
      "execution_count": null,
      "outputs": []
    },
    {
      "cell_type": "code",
      "source": [
        "#extract true from the dataset\n",
        "true_df = df2[df2['class'] == 'true']"
      ],
      "metadata": {
        "id": "lkCircfX4TTM"
      },
      "execution_count": null,
      "outputs": []
    },
    {
      "cell_type": "code",
      "source": [
        "#switch columns\n",
        "true_df = df_column_switch(true_df, \"class\", \"title\")"
      ],
      "metadata": {
        "id": "A3cYTLa_4VW8"
      },
      "execution_count": null,
      "outputs": []
    },
    {
      "cell_type": "code",
      "source": [
        "true_df['title'] = true_df['title'].apply(lambda x: str(x).lower())"
      ],
      "metadata": {
        "id": "wm427bR58kBO"
      },
      "execution_count": null,
      "outputs": []
    },
    {
      "cell_type": "code",
      "source": [
        "true_df.rename(columns = {'title':'text'}, inplace = True)"
      ],
      "metadata": {
        "id": "mrOQ1WOt_oxu"
      },
      "execution_count": null,
      "outputs": []
    },
    {
      "cell_type": "code",
      "source": [
        "#extract fake from the dataset\n",
        "fake_df = df2[df2['class'] == 'false']"
      ],
      "metadata": {
        "id": "xFYgoB1z4Vmt"
      },
      "execution_count": null,
      "outputs": []
    },
    {
      "cell_type": "code",
      "source": [
        "#switch columns\n",
        "fake_df = df_column_switch(fake_df, \"class\", \"title\")"
      ],
      "metadata": {
        "id": "Nbg0j4694j6s"
      },
      "execution_count": null,
      "outputs": []
    },
    {
      "cell_type": "code",
      "source": [
        "fake_df['title'] = fake_df['title'].apply(lambda x: str(x).lower())"
      ],
      "metadata": {
        "id": "ErQ-_zYh8kyW"
      },
      "execution_count": null,
      "outputs": []
    },
    {
      "cell_type": "code",
      "source": [
        "fake_df.rename(columns = {'title':'text'}, inplace = True)"
      ],
      "metadata": {
        "id": "Tl8XRDbM_uAd"
      },
      "execution_count": null,
      "outputs": []
    },
    {
      "cell_type": "code",
      "source": [
        "true_df['class'] = 1\n",
        "fake_df['class'] = 0"
      ],
      "metadata": {
        "id": "BADDgdyW4V3l"
      },
      "execution_count": null,
      "outputs": []
    },
    {
      "cell_type": "code",
      "source": [
        "#concat the fake to the main data\n",
        "df = df.append(fake_df, ignore_index = True)"
      ],
      "metadata": {
        "colab": {
          "base_uri": "https://localhost:8080/"
        },
        "id": "ibwuC8Fd4WNE",
        "outputId": "08f9fd1d-67be-4528-9a63-8e8a6efd918d"
      },
      "execution_count": null,
      "outputs": [
        {
          "output_type": "stream",
          "name": "stderr",
          "text": [
            "<ipython-input-146-a3c483579aa7>:2: FutureWarning: The frame.append method is deprecated and will be removed from pandas in a future version. Use pandas.concat instead.\n",
            "  df = df.append(fake_df, ignore_index = True)\n"
          ]
        }
      ]
    },
    {
      "cell_type": "code",
      "source": [
        "#concat the true to main data\n",
        "df = df.append(true_df, ignore_index = True)"
      ],
      "metadata": {
        "colab": {
          "base_uri": "https://localhost:8080/"
        },
        "id": "QmcEZ_oA4Wa0",
        "outputId": "894d544f-7d46-4fe7-cb99-980fe45fa97c"
      },
      "execution_count": null,
      "outputs": [
        {
          "output_type": "stream",
          "name": "stderr",
          "text": [
            "<ipython-input-147-d61583c44646>:2: FutureWarning: The frame.append method is deprecated and will be removed from pandas in a future version. Use pandas.concat instead.\n",
            "  df = df.append(true_df, ignore_index = True)\n"
          ]
        }
      ]
    },
    {
      "cell_type": "code",
      "source": [
        "df.shape"
      ],
      "metadata": {
        "colab": {
          "base_uri": "https://localhost:8080/"
        },
        "id": "2oZ8wMB94Wol",
        "outputId": "d669095b-4c85-472a-cd8f-75760c21f4fa"
      },
      "execution_count": null,
      "outputs": [
        {
          "output_type": "execute_result",
          "data": {
            "text/plain": [
              "(45812, 2)"
            ]
          },
          "metadata": {},
          "execution_count": 148
        }
      ]
    },
    {
      "cell_type": "markdown",
      "source": [
        "##working on the dataset 3"
      ],
      "metadata": {
        "id": "nESGQgFk3-wS"
      }
    },
    {
      "cell_type": "code",
      "source": [
        "df3 = val.drop(['index','json','title','topic','publisher','rep','state','1','2','3','4','5','6','person'], axis =1)"
      ],
      "metadata": {
        "id": "qS7EauER4DEq"
      },
      "execution_count": null,
      "outputs": []
    },
    {
      "cell_type": "code",
      "source": [
        "#extract true from the dataset\n",
        "true_df = df3[df3['class'] == 'true']"
      ],
      "metadata": {
        "id": "FXbcEVYs4DWE"
      },
      "execution_count": null,
      "outputs": []
    },
    {
      "cell_type": "code",
      "source": [
        "#switch columns\n",
        "true_df = df_column_switch(true_df, \"class\", \"text\")"
      ],
      "metadata": {
        "id": "fF35l_gV4Dk7"
      },
      "execution_count": null,
      "outputs": []
    },
    {
      "cell_type": "code",
      "source": [
        "true_df['text'] = true_df['text'].apply(lambda x: str(x).lower())"
      ],
      "metadata": {
        "id": "BuSo-3Vt8vO1"
      },
      "execution_count": null,
      "outputs": []
    },
    {
      "cell_type": "code",
      "source": [
        "#extract fake from the dataset\n",
        "fake_df = df3[df3['class'] == 'false']"
      ],
      "metadata": {
        "id": "IAzZ8vaS4-AX"
      },
      "execution_count": null,
      "outputs": []
    },
    {
      "cell_type": "code",
      "source": [
        "#switch columns\n",
        "fake_df = df_column_switch(fake_df, \"class\", \"text\")"
      ],
      "metadata": {
        "id": "cO52IgA94-MU"
      },
      "execution_count": null,
      "outputs": []
    },
    {
      "cell_type": "code",
      "source": [
        "true_df['text'] = true_df['text'].apply(lambda x: str(x).lower())"
      ],
      "metadata": {
        "id": "HVOWHZqY8wN9"
      },
      "execution_count": null,
      "outputs": []
    },
    {
      "cell_type": "code",
      "source": [
        "true_df['class'] = 1\n",
        "fake_df['class'] = 0"
      ],
      "metadata": {
        "id": "wzj9f0GR4-Zc"
      },
      "execution_count": null,
      "outputs": []
    },
    {
      "cell_type": "code",
      "source": [
        "#concat the fake to the main data\n",
        "df = df.append(fake_df, ignore_index = True)"
      ],
      "metadata": {
        "colab": {
          "base_uri": "https://localhost:8080/"
        },
        "id": "5qYKgq_v4-me",
        "outputId": "f6be73df-234e-4371-e088-e0ea580f933a"
      },
      "execution_count": null,
      "outputs": [
        {
          "output_type": "stream",
          "name": "stderr",
          "text": [
            "<ipython-input-157-a3c483579aa7>:2: FutureWarning: The frame.append method is deprecated and will be removed from pandas in a future version. Use pandas.concat instead.\n",
            "  df = df.append(fake_df, ignore_index = True)\n"
          ]
        }
      ]
    },
    {
      "cell_type": "code",
      "source": [
        "#concat the true to main data\n",
        "df = df.append(true_df, ignore_index = True)"
      ],
      "metadata": {
        "colab": {
          "base_uri": "https://localhost:8080/"
        },
        "id": "xVgMYzXA4-0d",
        "outputId": "8a00a9b4-6967-416f-d39c-69bff54924d0"
      },
      "execution_count": null,
      "outputs": [
        {
          "output_type": "stream",
          "name": "stderr",
          "text": [
            "<ipython-input-158-d61583c44646>:2: FutureWarning: The frame.append method is deprecated and will be removed from pandas in a future version. Use pandas.concat instead.\n",
            "  df = df.append(true_df, ignore_index = True)\n"
          ]
        }
      ]
    },
    {
      "cell_type": "code",
      "source": [
        "df.shape"
      ],
      "metadata": {
        "colab": {
          "base_uri": "https://localhost:8080/"
        },
        "id": "XBsZ7X465Opr",
        "outputId": "a0ae8dee-3f4c-45db-9ca1-3be396d90a19"
      },
      "execution_count": null,
      "outputs": [
        {
          "output_type": "execute_result",
          "data": {
            "text/plain": [
              "(46244, 2)"
            ]
          },
          "metadata": {},
          "execution_count": 159
        }
      ]
    },
    {
      "cell_type": "markdown",
      "source": [
        "##Taking title as well on dataset 3"
      ],
      "metadata": {
        "id": "OOMhy8Bo5Syj"
      }
    },
    {
      "cell_type": "code",
      "source": [
        "df3 = val.drop(['index','json','text','topic','publisher','rep','state','1','2','3','4','5','6','person'], axis =1)"
      ],
      "metadata": {
        "id": "0fKPy6Df5Wnr"
      },
      "execution_count": null,
      "outputs": []
    },
    {
      "cell_type": "code",
      "source": [
        "#extract true from the dataset\n",
        "true_df = df3[df3['class'] == 'true']"
      ],
      "metadata": {
        "id": "rMffzSQp5W0z"
      },
      "execution_count": null,
      "outputs": []
    },
    {
      "cell_type": "code",
      "source": [
        "#switch columns\n",
        "true_df = df_column_switch(true_df, \"class\", \"title\")"
      ],
      "metadata": {
        "id": "20XV2J4b5XAz"
      },
      "execution_count": null,
      "outputs": []
    },
    {
      "cell_type": "code",
      "source": [
        "true_df['title'] = true_df['title'].apply(lambda x: str(x).lower())"
      ],
      "metadata": {
        "id": "-UYLT74z80Bl"
      },
      "execution_count": null,
      "outputs": []
    },
    {
      "cell_type": "code",
      "source": [
        "true_df.rename(columns = {'title':'text'}, inplace = True)"
      ],
      "metadata": {
        "id": "sxUiwvj4_7p4"
      },
      "execution_count": null,
      "outputs": []
    },
    {
      "cell_type": "code",
      "source": [
        "#extract fake from the dataset\n",
        "fake_df = df3[df3['class'] == 'false']"
      ],
      "metadata": {
        "id": "05ZdakmB5XQT"
      },
      "execution_count": null,
      "outputs": []
    },
    {
      "cell_type": "code",
      "source": [
        "#switch columns\n",
        "fake_df = df_column_switch(fake_df, \"class\", \"title\")"
      ],
      "metadata": {
        "id": "LkF_dF9M5XgM"
      },
      "execution_count": null,
      "outputs": []
    },
    {
      "cell_type": "code",
      "source": [
        "fake_df['title'] = fake_df['title'].apply(lambda x: str(x).lower())"
      ],
      "metadata": {
        "id": "1dcwNa1P80wl"
      },
      "execution_count": null,
      "outputs": []
    },
    {
      "cell_type": "code",
      "source": [
        "fake_df.rename(columns = {'title':'text'}, inplace = True)"
      ],
      "metadata": {
        "id": "sbJwqdfMAAeH"
      },
      "execution_count": null,
      "outputs": []
    },
    {
      "cell_type": "code",
      "source": [
        "true_df['class'] = 1\n",
        "fake_df['class'] = 0"
      ],
      "metadata": {
        "id": "zdWEFWhB5XtP"
      },
      "execution_count": null,
      "outputs": []
    },
    {
      "cell_type": "code",
      "source": [
        "#concat the fake to the main data\n",
        "df = df.append(fake_df, ignore_index = True)"
      ],
      "metadata": {
        "colab": {
          "base_uri": "https://localhost:8080/"
        },
        "id": "HsnpLst75X6r",
        "outputId": "7ea5a4c4-3c3a-48a0-97e1-b5f98f169f92"
      },
      "execution_count": null,
      "outputs": [
        {
          "output_type": "stream",
          "name": "stderr",
          "text": [
            "<ipython-input-170-a3c483579aa7>:2: FutureWarning: The frame.append method is deprecated and will be removed from pandas in a future version. Use pandas.concat instead.\n",
            "  df = df.append(fake_df, ignore_index = True)\n"
          ]
        }
      ]
    },
    {
      "cell_type": "code",
      "source": [
        "#concat the true to main data\n",
        "df = df.append(true_df, ignore_index = True)"
      ],
      "metadata": {
        "colab": {
          "base_uri": "https://localhost:8080/"
        },
        "id": "TpLOo7xw5YOj",
        "outputId": "76d85928-86d0-4150-ce30-d368e0259228"
      },
      "execution_count": null,
      "outputs": [
        {
          "output_type": "stream",
          "name": "stderr",
          "text": [
            "<ipython-input-171-d61583c44646>:2: FutureWarning: The frame.append method is deprecated and will be removed from pandas in a future version. Use pandas.concat instead.\n",
            "  df = df.append(true_df, ignore_index = True)\n"
          ]
        }
      ]
    },
    {
      "cell_type": "code",
      "source": [
        "df.shape"
      ],
      "metadata": {
        "colab": {
          "base_uri": "https://localhost:8080/"
        },
        "id": "jV8enqF35YeW",
        "outputId": "1dc0143a-71cd-4549-af8c-762348ab2dfc"
      },
      "execution_count": null,
      "outputs": [
        {
          "output_type": "execute_result",
          "data": {
            "text/plain": [
              "(46676, 2)"
            ]
          },
          "metadata": {},
          "execution_count": 172
        }
      ]
    },
    {
      "cell_type": "markdown",
      "source": [
        "#Working on dataset 4"
      ],
      "metadata": {
        "id": "tlStvl4d47YE"
      }
    },
    {
      "cell_type": "code",
      "source": [
        "df4 = test.drop(['index','json','title','topic','publisher','rep','state','1','2','3','4','5','6','person'], axis =1)"
      ],
      "metadata": {
        "id": "RnGdK29k5yPj"
      },
      "execution_count": null,
      "outputs": []
    },
    {
      "cell_type": "code",
      "source": [
        "#extract true from the dataset\n",
        "true_df = df4[df4['class'] == 'true']"
      ],
      "metadata": {
        "id": "fhAVDG7d5ycb"
      },
      "execution_count": null,
      "outputs": []
    },
    {
      "cell_type": "code",
      "source": [
        "#switch columns\n",
        "true_df = df_column_switch(true_df, \"class\", \"text\")"
      ],
      "metadata": {
        "id": "_ulaanvX5ymb"
      },
      "execution_count": null,
      "outputs": []
    },
    {
      "cell_type": "code",
      "source": [
        "true_df['text'] = true_df['text'].apply(lambda x: str(x).lower())"
      ],
      "metadata": {
        "id": "KgqZGEcm85ps"
      },
      "execution_count": null,
      "outputs": []
    },
    {
      "cell_type": "code",
      "source": [
        "#extract fake from the dataset\n",
        "fake_df = df4[df4['class'] == 'false']"
      ],
      "metadata": {
        "id": "apoGB8vP5y1D"
      },
      "execution_count": null,
      "outputs": []
    },
    {
      "cell_type": "code",
      "source": [
        "#switch columns\n",
        "fake_df = df_column_switch(fake_df, \"class\", \"text\")"
      ],
      "metadata": {
        "id": "IlpWGWvD5y_k"
      },
      "execution_count": null,
      "outputs": []
    },
    {
      "cell_type": "code",
      "source": [
        "true_df['text'] = true_df['text'].apply(lambda x: str(x).lower())"
      ],
      "metadata": {
        "id": "3i_FdVkn86Q8"
      },
      "execution_count": null,
      "outputs": []
    },
    {
      "cell_type": "code",
      "source": [
        "true_df['class'] = 1\n",
        "fake_df['class'] = 0"
      ],
      "metadata": {
        "id": "AFFI10WX5zKb"
      },
      "execution_count": null,
      "outputs": []
    },
    {
      "cell_type": "code",
      "source": [
        "#concat the fake to the main data\n",
        "df = df.append(fake_df, ignore_index = True)"
      ],
      "metadata": {
        "colab": {
          "base_uri": "https://localhost:8080/"
        },
        "id": "vZ1AXskp5zei",
        "outputId": "3781e5cd-5c04-49d7-83a2-5d2a378779a0"
      },
      "execution_count": null,
      "outputs": [
        {
          "output_type": "stream",
          "name": "stderr",
          "text": [
            "<ipython-input-181-a3c483579aa7>:2: FutureWarning: The frame.append method is deprecated and will be removed from pandas in a future version. Use pandas.concat instead.\n",
            "  df = df.append(fake_df, ignore_index = True)\n"
          ]
        }
      ]
    },
    {
      "cell_type": "code",
      "source": [
        "#concat the true to main data\n",
        "df = df.append(true_df, ignore_index = True)"
      ],
      "metadata": {
        "colab": {
          "base_uri": "https://localhost:8080/"
        },
        "id": "czDEveG05z1D",
        "outputId": "e73e8c4f-08fa-4b33-f043-e4f047ad5162"
      },
      "execution_count": null,
      "outputs": [
        {
          "output_type": "stream",
          "name": "stderr",
          "text": [
            "<ipython-input-182-d61583c44646>:2: FutureWarning: The frame.append method is deprecated and will be removed from pandas in a future version. Use pandas.concat instead.\n",
            "  df = df.append(true_df, ignore_index = True)\n"
          ]
        }
      ]
    },
    {
      "cell_type": "code",
      "source": [
        "df.shape"
      ],
      "metadata": {
        "colab": {
          "base_uri": "https://localhost:8080/"
        },
        "id": "H63h53Pu50DD",
        "outputId": "427d93e9-0f06-440c-9391-5ae4f50ad655"
      },
      "execution_count": null,
      "outputs": [
        {
          "output_type": "execute_result",
          "data": {
            "text/plain": [
              "(47133, 2)"
            ]
          },
          "metadata": {},
          "execution_count": 183
        }
      ]
    },
    {
      "cell_type": "markdown",
      "source": [
        "##Taking titles as well"
      ],
      "metadata": {
        "id": "nOa4GSEC6TPz"
      }
    },
    {
      "cell_type": "code",
      "source": [
        "df4 = test.drop(['index','json','text','topic','publisher','rep','state','1','2','3','4','5','6','person'], axis =1)"
      ],
      "metadata": {
        "id": "aeedwlid50P8"
      },
      "execution_count": null,
      "outputs": []
    },
    {
      "cell_type": "code",
      "source": [
        "#extract true from the dataset\n",
        "true_df = df4[df4['class'] == 'true']"
      ],
      "metadata": {
        "id": "di4SLSV_50ar"
      },
      "execution_count": null,
      "outputs": []
    },
    {
      "cell_type": "code",
      "source": [
        "#switch columns\n",
        "true_df = df_column_switch(true_df, \"class\", \"title\")"
      ],
      "metadata": {
        "id": "Z4IlykvQ6dS0"
      },
      "execution_count": null,
      "outputs": []
    },
    {
      "cell_type": "code",
      "source": [
        "true_df['title'] = true_df['title'].apply(lambda x: str(x).lower())"
      ],
      "metadata": {
        "id": "dCqSBfIR88Fc"
      },
      "execution_count": null,
      "outputs": []
    },
    {
      "cell_type": "code",
      "source": [
        "true_df.rename(columns = {'title':'text'}, inplace = True)"
      ],
      "metadata": {
        "id": "VLeW3oVKAFjX"
      },
      "execution_count": null,
      "outputs": []
    },
    {
      "cell_type": "code",
      "source": [
        "#extract fake from the dataset\n",
        "fake_df = df4[df4['class'] == 'false']"
      ],
      "metadata": {
        "id": "JHJjv5eO6dd0"
      },
      "execution_count": null,
      "outputs": []
    },
    {
      "cell_type": "code",
      "source": [
        "#switch columns\n",
        "fake_df = df_column_switch(fake_df, \"class\", \"title\")"
      ],
      "metadata": {
        "id": "VMjKQooR6dqk"
      },
      "execution_count": null,
      "outputs": []
    },
    {
      "cell_type": "code",
      "source": [
        "fake_df['title'] = fake_df['title'].apply(lambda x: str(x).lower())"
      ],
      "metadata": {
        "id": "N-qYItlQ88pU"
      },
      "execution_count": null,
      "outputs": []
    },
    {
      "cell_type": "code",
      "source": [
        "fake_df.rename(columns = {'title':'text'}, inplace = True)"
      ],
      "metadata": {
        "id": "uR1CaU4_AJzc"
      },
      "execution_count": null,
      "outputs": []
    },
    {
      "cell_type": "code",
      "source": [
        "true_df['class'] = 1\n",
        "fake_df['class'] = 0"
      ],
      "metadata": {
        "id": "5TMKnVzH6d0-"
      },
      "execution_count": null,
      "outputs": []
    },
    {
      "cell_type": "code",
      "source": [
        "\n",
        "#concat the fake to the main data\n",
        "df = df.append(fake_df, ignore_index = True)"
      ],
      "metadata": {
        "colab": {
          "base_uri": "https://localhost:8080/"
        },
        "id": "zI5d3pB36eAk",
        "outputId": "5e323604-b5dd-44db-de5d-3bc94cb4de64"
      },
      "execution_count": null,
      "outputs": [
        {
          "output_type": "stream",
          "name": "stderr",
          "text": [
            "<ipython-input-194-a3c483579aa7>:2: FutureWarning: The frame.append method is deprecated and will be removed from pandas in a future version. Use pandas.concat instead.\n",
            "  df = df.append(fake_df, ignore_index = True)\n"
          ]
        }
      ]
    },
    {
      "cell_type": "code",
      "source": [
        "#concat the true to main data\n",
        "df = df.append(true_df, ignore_index = True)"
      ],
      "metadata": {
        "colab": {
          "base_uri": "https://localhost:8080/"
        },
        "id": "DahFqN1g6eNM",
        "outputId": "43356969-ff49-4f3e-f3b7-1cdccb4bb109"
      },
      "execution_count": null,
      "outputs": [
        {
          "output_type": "stream",
          "name": "stderr",
          "text": [
            "<ipython-input-195-d61583c44646>:2: FutureWarning: The frame.append method is deprecated and will be removed from pandas in a future version. Use pandas.concat instead.\n",
            "  df = df.append(true_df, ignore_index = True)\n"
          ]
        }
      ]
    },
    {
      "cell_type": "code",
      "source": [
        "df.shape"
      ],
      "metadata": {
        "colab": {
          "base_uri": "https://localhost:8080/"
        },
        "id": "QzoorVif6elU",
        "outputId": "f197b499-858d-4344-bb7d-94bd674f2ae9"
      },
      "execution_count": null,
      "outputs": [
        {
          "output_type": "execute_result",
          "data": {
            "text/plain": [
              "(47590, 2)"
            ]
          },
          "metadata": {},
          "execution_count": 196
        }
      ]
    },
    {
      "cell_type": "code",
      "source": [
        "df.head()"
      ],
      "metadata": {
        "colab": {
          "base_uri": "https://localhost:8080/",
          "height": 206
        },
        "id": "R6LgB_Au_Q0c",
        "outputId": "e152b9c3-2611-4d20-ee1b-4b5b0e0e9de3"
      },
      "execution_count": null,
      "outputs": [
        {
          "output_type": "execute_result",
          "data": {
            "text/plain": [
              "                                                text  class\n",
              "0  as u.s. budget fight looms, republicans flip t...      1\n",
              "1  u.s. military to accept transgender recruits o...      1\n",
              "2  senior u.s. republican senator: 'let mr. muell...      1\n",
              "3  fbi russia probe helped by australian diplomat...      1\n",
              "4  trump wants postal service to charge 'much mor...      1"
            ],
            "text/html": [
              "\n",
              "  <div id=\"df-2eb81665-f2df-46f9-aee5-c57bfd61fbc0\">\n",
              "    <div class=\"colab-df-container\">\n",
              "      <div>\n",
              "<style scoped>\n",
              "    .dataframe tbody tr th:only-of-type {\n",
              "        vertical-align: middle;\n",
              "    }\n",
              "\n",
              "    .dataframe tbody tr th {\n",
              "        vertical-align: top;\n",
              "    }\n",
              "\n",
              "    .dataframe thead th {\n",
              "        text-align: right;\n",
              "    }\n",
              "</style>\n",
              "<table border=\"1\" class=\"dataframe\">\n",
              "  <thead>\n",
              "    <tr style=\"text-align: right;\">\n",
              "      <th></th>\n",
              "      <th>text</th>\n",
              "      <th>class</th>\n",
              "    </tr>\n",
              "  </thead>\n",
              "  <tbody>\n",
              "    <tr>\n",
              "      <th>0</th>\n",
              "      <td>as u.s. budget fight looms, republicans flip t...</td>\n",
              "      <td>1</td>\n",
              "    </tr>\n",
              "    <tr>\n",
              "      <th>1</th>\n",
              "      <td>u.s. military to accept transgender recruits o...</td>\n",
              "      <td>1</td>\n",
              "    </tr>\n",
              "    <tr>\n",
              "      <th>2</th>\n",
              "      <td>senior u.s. republican senator: 'let mr. muell...</td>\n",
              "      <td>1</td>\n",
              "    </tr>\n",
              "    <tr>\n",
              "      <th>3</th>\n",
              "      <td>fbi russia probe helped by australian diplomat...</td>\n",
              "      <td>1</td>\n",
              "    </tr>\n",
              "    <tr>\n",
              "      <th>4</th>\n",
              "      <td>trump wants postal service to charge 'much mor...</td>\n",
              "      <td>1</td>\n",
              "    </tr>\n",
              "  </tbody>\n",
              "</table>\n",
              "</div>\n",
              "      <button class=\"colab-df-convert\" onclick=\"convertToInteractive('df-2eb81665-f2df-46f9-aee5-c57bfd61fbc0')\"\n",
              "              title=\"Convert this dataframe to an interactive table.\"\n",
              "              style=\"display:none;\">\n",
              "        \n",
              "  <svg xmlns=\"http://www.w3.org/2000/svg\" height=\"24px\"viewBox=\"0 0 24 24\"\n",
              "       width=\"24px\">\n",
              "    <path d=\"M0 0h24v24H0V0z\" fill=\"none\"/>\n",
              "    <path d=\"M18.56 5.44l.94 2.06.94-2.06 2.06-.94-2.06-.94-.94-2.06-.94 2.06-2.06.94zm-11 1L8.5 8.5l.94-2.06 2.06-.94-2.06-.94L8.5 2.5l-.94 2.06-2.06.94zm10 10l.94 2.06.94-2.06 2.06-.94-2.06-.94-.94-2.06-.94 2.06-2.06.94z\"/><path d=\"M17.41 7.96l-1.37-1.37c-.4-.4-.92-.59-1.43-.59-.52 0-1.04.2-1.43.59L10.3 9.45l-7.72 7.72c-.78.78-.78 2.05 0 2.83L4 21.41c.39.39.9.59 1.41.59.51 0 1.02-.2 1.41-.59l7.78-7.78 2.81-2.81c.8-.78.8-2.07 0-2.86zM5.41 20L4 18.59l7.72-7.72 1.47 1.35L5.41 20z\"/>\n",
              "  </svg>\n",
              "      </button>\n",
              "      \n",
              "  <style>\n",
              "    .colab-df-container {\n",
              "      display:flex;\n",
              "      flex-wrap:wrap;\n",
              "      gap: 12px;\n",
              "    }\n",
              "\n",
              "    .colab-df-convert {\n",
              "      background-color: #E8F0FE;\n",
              "      border: none;\n",
              "      border-radius: 50%;\n",
              "      cursor: pointer;\n",
              "      display: none;\n",
              "      fill: #1967D2;\n",
              "      height: 32px;\n",
              "      padding: 0 0 0 0;\n",
              "      width: 32px;\n",
              "    }\n",
              "\n",
              "    .colab-df-convert:hover {\n",
              "      background-color: #E2EBFA;\n",
              "      box-shadow: 0px 1px 2px rgba(60, 64, 67, 0.3), 0px 1px 3px 1px rgba(60, 64, 67, 0.15);\n",
              "      fill: #174EA6;\n",
              "    }\n",
              "\n",
              "    [theme=dark] .colab-df-convert {\n",
              "      background-color: #3B4455;\n",
              "      fill: #D2E3FC;\n",
              "    }\n",
              "\n",
              "    [theme=dark] .colab-df-convert:hover {\n",
              "      background-color: #434B5C;\n",
              "      box-shadow: 0px 1px 3px 1px rgba(0, 0, 0, 0.15);\n",
              "      filter: drop-shadow(0px 1px 2px rgba(0, 0, 0, 0.3));\n",
              "      fill: #FFFFFF;\n",
              "    }\n",
              "  </style>\n",
              "\n",
              "      <script>\n",
              "        const buttonEl =\n",
              "          document.querySelector('#df-2eb81665-f2df-46f9-aee5-c57bfd61fbc0 button.colab-df-convert');\n",
              "        buttonEl.style.display =\n",
              "          google.colab.kernel.accessAllowed ? 'block' : 'none';\n",
              "\n",
              "        async function convertToInteractive(key) {\n",
              "          const element = document.querySelector('#df-2eb81665-f2df-46f9-aee5-c57bfd61fbc0');\n",
              "          const dataTable =\n",
              "            await google.colab.kernel.invokeFunction('convertToInteractive',\n",
              "                                                     [key], {});\n",
              "          if (!dataTable) return;\n",
              "\n",
              "          const docLinkHtml = 'Like what you see? Visit the ' +\n",
              "            '<a target=\"_blank\" href=https://colab.research.google.com/notebooks/data_table.ipynb>data table notebook</a>'\n",
              "            + ' to learn more about interactive tables.';\n",
              "          element.innerHTML = '';\n",
              "          dataTable['output_type'] = 'display_data';\n",
              "          await google.colab.output.renderOutput(dataTable, element);\n",
              "          const docLink = document.createElement('div');\n",
              "          docLink.innerHTML = docLinkHtml;\n",
              "          element.appendChild(docLink);\n",
              "        }\n",
              "      </script>\n",
              "    </div>\n",
              "  </div>\n",
              "  "
            ]
          },
          "metadata": {},
          "execution_count": 197
        }
      ]
    },
    {
      "cell_type": "markdown",
      "source": [
        "##More Cleaning"
      ],
      "metadata": {
        "id": "8ntSbGNV6osp"
      }
    },
    {
      "cell_type": "code",
      "execution_count": null,
      "metadata": {
        "colab": {
          "base_uri": "https://localhost:8080/",
          "height": 417
        },
        "id": "TIEdAhljh0J3",
        "outputId": "08954f47-7b44-46b4-d135-9ceba63a390e"
      },
      "outputs": [
        {
          "output_type": "stream",
          "name": "stdout",
          "text": [
            "Looking in indexes: https://pypi.org/simple, https://us-python.pkg.dev/colab-wheels/public/simple/\n",
            "Collecting git+https://github.com/laxmimerit/preprocess_kgptalkie.git\n",
            "  Cloning https://github.com/laxmimerit/preprocess_kgptalkie.git to /tmp/pip-req-build-r4x1g4l_\n",
            "  Running command git clone --filter=blob:none --quiet https://github.com/laxmimerit/preprocess_kgptalkie.git /tmp/pip-req-build-r4x1g4l_\n",
            "  Resolved https://github.com/laxmimerit/preprocess_kgptalkie.git to commit 9ca68d37027af9f6a30d54640347ce3b2e2694b3\n",
            "  Preparing metadata (setup.py) ... \u001b[?25l\u001b[?25hdone\n",
            "Building wheels for collected packages: preprocess-kgptalkie\n",
            "  Building wheel for preprocess-kgptalkie (setup.py) ... \u001b[?25l\u001b[?25hdone\n",
            "  Created wheel for preprocess-kgptalkie: filename=preprocess_kgptalkie-0.1.3-py3-none-any.whl size=7639 sha256=f2e7bfa0ff7640706cb5d9a776fe5ea8699b529ef6f901d514dce9cce82e90f6\n",
            "  Stored in directory: /tmp/pip-ephem-wheel-cache-uul_yw4a/wheels/d1/c3/bb/559fe93e652b51cbc532f17e9693f3b70055f8560cf06c1fb3\n",
            "Successfully built preprocess-kgptalkie\n",
            "Installing collected packages: preprocess-kgptalkie\n",
            "  Attempting uninstall: preprocess-kgptalkie\n",
            "    Found existing installation: preprocess-kgptalkie 0.1.3\n",
            "    Uninstalling preprocess-kgptalkie-0.1.3:\n",
            "      Successfully uninstalled preprocess-kgptalkie-0.1.3\n",
            "Successfully installed preprocess-kgptalkie-0.1.3\n"
          ]
        },
        {
          "output_type": "display_data",
          "data": {
            "application/vnd.colab-display-data+json": {
              "pip_warning": {
                "packages": [
                  "preprocess_kgptalkie"
                ]
              }
            }
          },
          "metadata": {}
        }
      ],
      "source": [
        "!pip install git+https://github.com/laxmimerit/preprocess_kgptalkie.git --upgrade --force-reinstall"
      ]
    },
    {
      "cell_type": "code",
      "execution_count": null,
      "metadata": {
        "id": "vCFWVg4riWyJ"
      },
      "outputs": [],
      "source": [
        "import preprocess_kgptalkie as ps"
      ]
    },
    {
      "cell_type": "code",
      "execution_count": null,
      "metadata": {
        "colab": {
          "base_uri": "https://localhost:8080/"
        },
        "id": "WfouPXJiskIJ",
        "outputId": "99c1876c-18a0-479e-8d8d-3b5d5aae4713"
      },
      "outputs": [
        {
          "output_type": "execute_result",
          "data": {
            "text/plain": [
              "pandas.core.series.Series"
            ]
          },
          "metadata": {},
          "execution_count": 202
        }
      ],
      "source": [
        "type(df['text'])"
      ]
    },
    {
      "cell_type": "code",
      "execution_count": null,
      "metadata": {
        "colab": {
          "base_uri": "https://localhost:8080/"
        },
        "id": "a501NICst3Jw",
        "outputId": "19f5a462-68ab-4f16-dceb-6c8fd6c332b8"
      },
      "outputs": [
        {
          "output_type": "execute_result",
          "data": {
            "text/plain": [
              "text     1\n",
              "class    0\n",
              "dtype: int64"
            ]
          },
          "metadata": {},
          "execution_count": 203
        }
      ],
      "source": [
        "df.isna().sum()"
      ]
    },
    {
      "cell_type": "code",
      "execution_count": null,
      "metadata": {
        "id": "d5CrOcwmtXPQ"
      },
      "outputs": [],
      "source": [
        "df = df.dropna()"
      ]
    },
    {
      "cell_type": "code",
      "execution_count": null,
      "metadata": {
        "colab": {
          "base_uri": "https://localhost:8080/"
        },
        "id": "R3jhxiVwt9hv",
        "outputId": "7a8762f8-d53a-44db-b62f-db2c8a6df28e"
      },
      "outputs": [
        {
          "output_type": "execute_result",
          "data": {
            "text/plain": [
              "(47589, 2)"
            ]
          },
          "metadata": {},
          "execution_count": 205
        }
      ],
      "source": [
        "df.shape"
      ]
    },
    {
      "cell_type": "code",
      "execution_count": null,
      "metadata": {
        "colab": {
          "base_uri": "https://localhost:8080/"
        },
        "id": "snoDAG6airwD",
        "outputId": "b6daf39d-07a2-46b4-891f-3a46b2dce659"
      },
      "outputs": [
        {
          "output_type": "execute_result",
          "data": {
            "text/plain": [
              "0        as us budget fight looms republicans flip thei...\n",
              "1        us military to accept transgender recruits on ...\n",
              "2        senior us republican senator let mr mueller do...\n",
              "3        fbi russia probe helped by australian diplomat...\n",
              "4        trump wants postal service to charge much more...\n",
              "                               ...                        \n",
              "47585    in the illinois legislature barack obama voted...\n",
              "47586    if you want to vote in texas you can use a con...\n",
              "47587    the us supreme court has not traditionally ask...\n",
              "47588    says barack obama promised to halve the defici...\n",
              "47589    i am the only senator who turned down the stat...\n",
              "Name: text, Length: 47589, dtype: object"
            ]
          },
          "metadata": {},
          "execution_count": 206
        }
      ],
      "source": [
        "df['text'].apply(lambda x: ps.remove_special_chars(x))"
      ]
    },
    {
      "cell_type": "markdown",
      "metadata": {
        "id": "VEzTB3R5uMIq"
      },
      "source": [
        "##Pre Process"
      ]
    },
    {
      "cell_type": "code",
      "execution_count": null,
      "metadata": {
        "id": "Oj1uAulsuLrd"
      },
      "outputs": [],
      "source": [
        "import pandas as pd\n",
        "import re\n",
        "import nltk\n",
        "from nltk.corpus import stopwords\n",
        "from nltk.stem.porter import PorterStemmer\n",
        "from nltk.stem import WordNetLemmatizer"
      ]
    },
    {
      "cell_type": "code",
      "execution_count": null,
      "metadata": {
        "id": "mF4AJeYdwU4U"
      },
      "outputs": [],
      "source": [
        "# Tokenize the text by splitting it into individual words\n",
        "df['text'] = df['text'].apply(lambda x: x.split())"
      ]
    },
    {
      "cell_type": "code",
      "execution_count": null,
      "metadata": {
        "colab": {
          "base_uri": "https://localhost:8080/"
        },
        "id": "pqaJ986FwdmU",
        "outputId": "262a296e-00fc-467b-b194-5f074f5ea705"
      },
      "outputs": [
        {
          "output_type": "stream",
          "name": "stderr",
          "text": [
            "[nltk_data] Downloading package stopwords to /root/nltk_data...\n",
            "[nltk_data]   Unzipping corpora/stopwords.zip.\n"
          ]
        }
      ],
      "source": [
        "# Remove stopwords from the text\n",
        "nltk.download('stopwords')\n",
        "stop_words = stopwords.words('english')\n",
        "df['text'] = df['text'].apply(lambda x: [word for word in x if word not in stop_words])"
      ]
    },
    {
      "cell_type": "code",
      "execution_count": null,
      "metadata": {
        "id": "EvA--nAawgqw"
      },
      "outputs": [],
      "source": [
        "# Stem the words in the text\n",
        "stemmer = PorterStemmer()\n",
        "df['text'] = df['text'].apply(lambda x: [stemmer.stem(word) for word in x])"
      ]
    },
    {
      "cell_type": "code",
      "execution_count": null,
      "metadata": {
        "colab": {
          "base_uri": "https://localhost:8080/"
        },
        "id": "__7EOrkCwjZN",
        "outputId": "6b402522-30ac-424d-b955-d9e3082203be"
      },
      "outputs": [
        {
          "output_type": "stream",
          "name": "stderr",
          "text": [
            "[nltk_data] Downloading package wordnet to /root/nltk_data...\n"
          ]
        }
      ],
      "source": [
        "# Lemmatize the words in the text\n",
        "nltk.download('wordnet')\n",
        "lemmatizer = WordNetLemmatizer()\n",
        "df['text'] = df['text'].apply(lambda x: [lemmatizer.lemmatize(word) for word in x])"
      ]
    },
    {
      "cell_type": "code",
      "execution_count": null,
      "metadata": {
        "id": "5i1ecUIEworb"
      },
      "outputs": [],
      "source": [
        "# Join the words back into a single string\n",
        "df['text'] = df['text'].apply(lambda x: ' '.join(x))"
      ]
    },
    {
      "cell_type": "code",
      "execution_count": null,
      "metadata": {
        "colab": {
          "base_uri": "https://localhost:8080/"
        },
        "id": "kYFAGbRt7p0E",
        "outputId": "cf454b49-a8ca-4999-858c-5ac5ec1c8f56"
      },
      "outputs": [
        {
          "output_type": "execute_result",
          "data": {
            "text/plain": [
              "text     0\n",
              "class    0\n",
              "dtype: int64"
            ]
          },
          "metadata": {},
          "execution_count": 213
        }
      ],
      "source": [
        "df.isna().sum()"
      ]
    },
    {
      "cell_type": "code",
      "execution_count": null,
      "metadata": {
        "id": "cJ85yB9r7rdO"
      },
      "outputs": [],
      "source": [
        "df = df.dropna()"
      ]
    },
    {
      "cell_type": "code",
      "execution_count": null,
      "metadata": {
        "colab": {
          "base_uri": "https://localhost:8080/"
        },
        "id": "aJCv10Yo7n08",
        "outputId": "74aff768-9067-4671-940e-80268624a575"
      },
      "outputs": [
        {
          "output_type": "execute_result",
          "data": {
            "text/plain": [
              "0        us budget fight looms republican flip fiscal s...\n",
              "1        us militari accept transgend recruit monday pe...\n",
              "2        senior us republican senator let mr mueller jo...\n",
              "3        fbi russia probe help australian diplomat tipo...\n",
              "4        trump want postal servic charg much more amazo...\n",
              "                               ...                        \n",
              "47585    illinoi legislature barack obama vote present ...\n",
              "47586    want vote texas use concealedweapon permit val...\n",
              "47587    us suprem court tradit ask lot question oral a...\n",
              "47588      say barack obama promis halv deficit first term\n",
              "47589    senat turn state pension plan parttim legislators\n",
              "Name: text, Length: 47589, dtype: object"
            ]
          },
          "metadata": {},
          "execution_count": 215
        }
      ],
      "source": [
        "df['text'].apply(lambda x: ps.remove_special_chars(x))"
      ]
    },
    {
      "cell_type": "code",
      "execution_count": null,
      "metadata": {
        "id": "oJtSZHyUwph8"
      },
      "outputs": [],
      "source": [
        "# Save the preprocessed dataset\n",
        "df.to_csv('preprocessed_dataset.csv', index=False)"
      ]
    },
    {
      "cell_type": "markdown",
      "metadata": {
        "id": "j9YjBIaG0fg5"
      },
      "source": [
        "##fine tuning model - BERT\n",
        "\n",
        "Fine-tuning BERT: Fine-tune the pre-trained BERT model on the preprocessed dataset using transfer learning. You can use a binary classification task to train the BERT model to distinguish between real and fake news articles."
      ]
    },
    {
      "cell_type": "code",
      "execution_count": null,
      "metadata": {
        "id": "TlUZmjBh-7q7"
      },
      "outputs": [],
      "source": [
        "import locale\n",
        "locale.getpreferredencoding = lambda: \"UTF-8\"\n"
      ]
    },
    {
      "cell_type": "code",
      "execution_count": null,
      "metadata": {
        "colab": {
          "base_uri": "https://localhost:8080/"
        },
        "id": "trxYzddY0izJ",
        "outputId": "d5baeddf-41eb-4631-c697-9174ef2fab7c"
      },
      "outputs": [
        {
          "output_type": "stream",
          "name": "stdout",
          "text": [
            "Looking in indexes: https://pypi.org/simple, https://us-python.pkg.dev/colab-wheels/public/simple/\n",
            "Collecting transformers\n",
            "  Downloading transformers-4.27.4-py3-none-any.whl (6.8 MB)\n",
            "\u001b[2K     \u001b[90m━━━━━━━━━━━━━━━━━━━━━━━━━━━━━━━━━━━━━━━━\u001b[0m \u001b[32m6.8/6.8 MB\u001b[0m \u001b[31m74.7 MB/s\u001b[0m eta \u001b[36m0:00:00\u001b[0m\n",
            "\u001b[?25hRequirement already satisfied: numpy>=1.17 in /usr/local/lib/python3.9/dist-packages (from transformers) (1.22.4)\n",
            "Requirement already satisfied: tqdm>=4.27 in /usr/local/lib/python3.9/dist-packages (from transformers) (4.65.0)\n",
            "Requirement already satisfied: pyyaml>=5.1 in /usr/local/lib/python3.9/dist-packages (from transformers) (6.0)\n",
            "Collecting huggingface-hub<1.0,>=0.11.0\n",
            "  Downloading huggingface_hub-0.13.4-py3-none-any.whl (200 kB)\n",
            "\u001b[2K     \u001b[90m━━━━━━━━━━━━━━━━━━━━━━━━━━━━━━━━━━━━━━\u001b[0m \u001b[32m200.1/200.1 kB\u001b[0m \u001b[31m26.3 MB/s\u001b[0m eta \u001b[36m0:00:00\u001b[0m\n",
            "\u001b[?25hRequirement already satisfied: requests in /usr/local/lib/python3.9/dist-packages (from transformers) (2.27.1)\n",
            "Requirement already satisfied: packaging>=20.0 in /usr/local/lib/python3.9/dist-packages (from transformers) (23.0)\n",
            "Collecting tokenizers!=0.11.3,<0.14,>=0.11.1\n",
            "  Downloading tokenizers-0.13.3-cp39-cp39-manylinux_2_17_x86_64.manylinux2014_x86_64.whl (7.8 MB)\n",
            "\u001b[2K     \u001b[90m━━━━━━━━━━━━━━━━━━━━━━━━━━━━━━━━━━━━━━━━\u001b[0m \u001b[32m7.8/7.8 MB\u001b[0m \u001b[31m98.6 MB/s\u001b[0m eta \u001b[36m0:00:00\u001b[0m\n",
            "\u001b[?25hRequirement already satisfied: regex!=2019.12.17 in /usr/local/lib/python3.9/dist-packages (from transformers) (2022.10.31)\n",
            "Requirement already satisfied: filelock in /usr/local/lib/python3.9/dist-packages (from transformers) (3.11.0)\n",
            "Requirement already satisfied: typing-extensions>=3.7.4.3 in /usr/local/lib/python3.9/dist-packages (from huggingface-hub<1.0,>=0.11.0->transformers) (4.5.0)\n",
            "Requirement already satisfied: urllib3<1.27,>=1.21.1 in /usr/local/lib/python3.9/dist-packages (from requests->transformers) (1.26.15)\n",
            "Requirement already satisfied: idna<4,>=2.5 in /usr/local/lib/python3.9/dist-packages (from requests->transformers) (3.4)\n",
            "Requirement already satisfied: charset-normalizer~=2.0.0 in /usr/local/lib/python3.9/dist-packages (from requests->transformers) (2.0.12)\n",
            "Requirement already satisfied: certifi>=2017.4.17 in /usr/local/lib/python3.9/dist-packages (from requests->transformers) (2022.12.7)\n",
            "Installing collected packages: tokenizers, huggingface-hub, transformers\n",
            "Successfully installed huggingface-hub-0.13.4 tokenizers-0.13.3 transformers-4.27.4\n"
          ]
        }
      ],
      "source": [
        "!pip install transformers\n",
        "\n",
        "import pandas as pd\n",
        "import torch\n",
        "import numpy as np\n",
        "from sklearn.model_selection import train_test_split\n",
        "from transformers import BertTokenizer, BertForSequenceClassification, AdamW\n",
        "from torch.utils.data import TensorDataset, DataLoader, RandomSampler, SequentialSampler"
      ]
    },
    {
      "cell_type": "code",
      "execution_count": null,
      "metadata": {
        "id": "_bfYxJKO09Si"
      },
      "outputs": [],
      "source": [
        "# Load the preprocessed dataset\n",
        "df = pd.read_csv('preprocessed_dataset.csv')"
      ]
    },
    {
      "cell_type": "code",
      "execution_count": null,
      "metadata": {
        "colab": {
          "base_uri": "https://localhost:8080/"
        },
        "id": "4bVGI-oY_GO9",
        "outputId": "65367a1a-3b2e-48a1-ed87-13a2d77eb82b"
      },
      "outputs": [
        {
          "output_type": "execute_result",
          "data": {
            "text/plain": [
              "text     634\n",
              "class      0\n",
              "dtype: int64"
            ]
          },
          "metadata": {},
          "execution_count": 219
        }
      ],
      "source": [
        "df.isna().sum()"
      ]
    },
    {
      "cell_type": "code",
      "execution_count": null,
      "metadata": {
        "id": "Ly5lOGHR_IDj"
      },
      "outputs": [],
      "source": [
        "df = df.dropna()"
      ]
    },
    {
      "cell_type": "code",
      "execution_count": null,
      "metadata": {
        "colab": {
          "base_uri": "https://localhost:8080/"
        },
        "id": "3pj_Us6b_KLi",
        "outputId": "bb833189-bb7f-4492-8347-ab0b367f7062"
      },
      "outputs": [
        {
          "output_type": "execute_result",
          "data": {
            "text/plain": [
              "0        us budget fight looms republican flip fiscal s...\n",
              "1        us militari accept transgend recruit monday pe...\n",
              "2        senior us republican senator let mr mueller jo...\n",
              "3        fbi russia probe help australian diplomat tipo...\n",
              "4        trump want postal servic charg much more amazo...\n",
              "                               ...                        \n",
              "47584    illinoi legislature barack obama vote present ...\n",
              "47585    want vote texas use concealedweapon permit val...\n",
              "47586    us suprem court tradit ask lot question oral a...\n",
              "47587      say barack obama promis halv deficit first term\n",
              "47588    senat turn state pension plan parttim legislators\n",
              "Name: text, Length: 46955, dtype: object"
            ]
          },
          "metadata": {},
          "execution_count": 221
        }
      ],
      "source": [
        "df['text'].apply(lambda x: ps.remove_special_chars(x))"
      ]
    },
    {
      "cell_type": "code",
      "execution_count": null,
      "metadata": {
        "id": "l4ITUfbP1lku"
      },
      "outputs": [],
      "source": [
        "# Split the dataset into train and test sets\n",
        "train_texts, test_texts, train_labels, test_labels = train_test_split(df['text'], df['class'], test_size=0.2, random_state=42)"
      ]
    },
    {
      "cell_type": "code",
      "execution_count": null,
      "metadata": {
        "id": "qSaT2pJK1oLT",
        "colab": {
          "base_uri": "https://localhost:8080/",
          "height": 81,
          "referenced_widgets": [
            "6a3749bbb4204de786a2acbde57a906b",
            "b60bfd51b44a469d83cfb2cfec1e61ff",
            "359cc9c4bbec444b83635ad5e120ec64",
            "6a8aadd4ba824b5684c6f676d216897f",
            "221d4ae8459c40f7b48c33da0bb5e78c",
            "6d2a440b7591438980e50f74dd32974f",
            "229f8dc4ec234f92b875224995d5c136",
            "955dfbdeebc14887bcb8aa34955eeaa2",
            "128dd44a4e994d189019489802ca7c91",
            "6e06373362194c429329c3cf3b9155da",
            "7e57245e56cb4d9ba78b09d1b99c78d4",
            "ef538574e06b488c977f9115ad05b4bd",
            "a88da337e7c04d1f96e7d88775c1ddbc",
            "4e3b4dbe54c44a979c8a8f3044e8f227",
            "c41557e3cd7747ffbf28456ead4734d2",
            "2747aac22666498f8814fed9f6ceaf06",
            "46f6aec76f84461894ae37c636aa7e32",
            "9068e11873b34e01bc320d6bd2e2ce3a",
            "0f7aff5ed2ee4acebffe82c6957631ff",
            "ea0f355a327a47e8955cd0b9efb4dc23",
            "a4ca6d8bb4924823a600cf9192a49bcf",
            "0f9c6dc9823c48c4b1101df849d337ff"
          ]
        },
        "outputId": "16b44213-5f1b-4b26-d073-fa0e6dababaf"
      },
      "outputs": [
        {
          "output_type": "display_data",
          "data": {
            "text/plain": [
              "Downloading (…)solve/main/vocab.txt:   0%|          | 0.00/232k [00:00<?, ?B/s]"
            ],
            "application/vnd.jupyter.widget-view+json": {
              "version_major": 2,
              "version_minor": 0,
              "model_id": "6a3749bbb4204de786a2acbde57a906b"
            }
          },
          "metadata": {}
        },
        {
          "output_type": "display_data",
          "data": {
            "text/plain": [
              "Downloading (…)lve/main/config.json:   0%|          | 0.00/570 [00:00<?, ?B/s]"
            ],
            "application/vnd.jupyter.widget-view+json": {
              "version_major": 2,
              "version_minor": 0,
              "model_id": "ef538574e06b488c977f9115ad05b4bd"
            }
          },
          "metadata": {}
        }
      ],
      "source": [
        "# Load the BERT tokenizer\n",
        "tokenizer = BertTokenizer.from_pretrained('bert-base-uncased', do_lower_case=True)"
      ]
    },
    {
      "cell_type": "code",
      "execution_count": null,
      "metadata": {
        "id": "UtmfM3yl3Vi9"
      },
      "outputs": [],
      "source": [
        "# Convert NumPy arrays to lists\n",
        "train_texts = list(train_texts)\n",
        "test_texts = list(test_texts)"
      ]
    },
    {
      "cell_type": "code",
      "execution_count": null,
      "metadata": {
        "id": "K75Q4d8e1tJe"
      },
      "outputs": [],
      "source": [
        "# Tokenize the train and test sets\n",
        "train_encodings = tokenizer(train_texts, truncation=True, padding=True)\n",
        "test_encodings = tokenizer(test_texts, truncation=True, padding=True)"
      ]
    },
    {
      "cell_type": "code",
      "execution_count": null,
      "metadata": {
        "id": "TFJmmdCt3Bqm"
      },
      "outputs": [],
      "source": [
        "# Convert the train and test labels to tensors\n",
        "train_labels = torch.tensor(list(train_labels))\n",
        "test_labels = torch.tensor(list(test_labels))"
      ]
    },
    {
      "cell_type": "code",
      "execution_count": null,
      "metadata": {
        "id": "TkMZuZkm1t1o"
      },
      "outputs": [],
      "source": [
        "# Create a PyTorch DataLoader for the train and test sets\n",
        "train_dataset = TensorDataset(torch.tensor(train_encodings['input_ids']), torch.tensor(train_encodings['attention_mask']), train_labels)\n",
        "test_dataset = TensorDataset(torch.tensor(test_encodings['input_ids']), torch.tensor(test_encodings['attention_mask']), test_labels)\n",
        "\n",
        "train_loader = DataLoader(train_dataset, batch_size=16, shuffle=True)\n",
        "test_loader = DataLoader(test_dataset, batch_size=16, shuffle=False)"
      ]
    },
    {
      "cell_type": "code",
      "execution_count": null,
      "metadata": {
        "id": "CKMqSGS954Bn",
        "colab": {
          "base_uri": "https://localhost:8080/",
          "height": 160,
          "referenced_widgets": [
            "1946cf52fa564e67b4cce83c63fad0a0",
            "8966ea2ece8446839e2e11c78d16ffdf",
            "ef45c9e76a0a443fbdc5ca49a0ab6667",
            "a741b0b6a05e41ec9b6433b890681143",
            "13c75c078e4f4b66b5c757eaac37248f",
            "09b7b91303f246d1996b85a083ed2001",
            "23a264656a634cd5a89303e4827e0915",
            "7a44a0e63a02401cb8f24b57e240b7ef",
            "c927f7ce5fcf4f2a898cb50e958cd40e",
            "a93e5704d885492cba0691a1a4ef4911",
            "b89d54cb67a2426d9ed56d8f935c9e4d"
          ]
        },
        "outputId": "bcbdfe6a-dd1e-409f-b4ba-b26fdaef9c00"
      },
      "outputs": [
        {
          "output_type": "display_data",
          "data": {
            "text/plain": [
              "Downloading pytorch_model.bin:   0%|          | 0.00/440M [00:00<?, ?B/s]"
            ],
            "application/vnd.jupyter.widget-view+json": {
              "version_major": 2,
              "version_minor": 0,
              "model_id": "1946cf52fa564e67b4cce83c63fad0a0"
            }
          },
          "metadata": {}
        },
        {
          "output_type": "stream",
          "name": "stderr",
          "text": [
            "Some weights of the model checkpoint at bert-base-uncased were not used when initializing BertForSequenceClassification: ['cls.predictions.transform.dense.bias', 'cls.seq_relationship.weight', 'cls.predictions.decoder.weight', 'cls.predictions.transform.LayerNorm.bias', 'cls.predictions.transform.dense.weight', 'cls.seq_relationship.bias', 'cls.predictions.bias', 'cls.predictions.transform.LayerNorm.weight']\n",
            "- This IS expected if you are initializing BertForSequenceClassification from the checkpoint of a model trained on another task or with another architecture (e.g. initializing a BertForSequenceClassification model from a BertForPreTraining model).\n",
            "- This IS NOT expected if you are initializing BertForSequenceClassification from the checkpoint of a model that you expect to be exactly identical (initializing a BertForSequenceClassification model from a BertForSequenceClassification model).\n",
            "Some weights of BertForSequenceClassification were not initialized from the model checkpoint at bert-base-uncased and are newly initialized: ['classifier.bias', 'classifier.weight']\n",
            "You should probably TRAIN this model on a down-stream task to be able to use it for predictions and inference.\n"
          ]
        }
      ],
      "source": [
        "# Load the pre-trained BERT model\n",
        "model = BertForSequenceClassification.from_pretrained('bert-base-uncased', num_labels=2)"
      ]
    },
    {
      "cell_type": "code",
      "execution_count": null,
      "metadata": {
        "id": "lE4R-AJl6KOq",
        "colab": {
          "base_uri": "https://localhost:8080/"
        },
        "outputId": "11ff63e7-0038-443a-eec8-489781c7ad3a"
      },
      "outputs": [
        {
          "output_type": "stream",
          "name": "stderr",
          "text": [
            "/usr/local/lib/python3.9/dist-packages/transformers/optimization.py:391: FutureWarning: This implementation of AdamW is deprecated and will be removed in a future version. Use the PyTorch implementation torch.optim.AdamW instead, or set `no_deprecation_warning=True` to disable this warning\n",
            "  warnings.warn(\n"
          ]
        }
      ],
      "source": [
        "# Set the optimizer and learning rate scheduler\n",
        "optimizer = AdamW(model.parameters(), lr=2e-5, eps=1e-8)\n",
        "scheduler = torch.optim.lr_scheduler.StepLR(optimizer, step_size=1, gamma=0.1)"
      ]
    },
    {
      "cell_type": "markdown",
      "source": [
        "#Model Definition"
      ],
      "metadata": {
        "id": "odOOvfoU7J28"
      }
    },
    {
      "cell_type": "code",
      "execution_count": null,
      "metadata": {
        "id": "vu0PVa4S6PnG",
        "colab": {
          "base_uri": "https://localhost:8080/"
        },
        "outputId": "eccab359-dabc-41f4-ec3d-54759d0adced"
      },
      "outputs": [
        {
          "output_type": "execute_result",
          "data": {
            "text/plain": [
              "BertForSequenceClassification(\n",
              "  (bert): BertModel(\n",
              "    (embeddings): BertEmbeddings(\n",
              "      (word_embeddings): Embedding(30522, 768, padding_idx=0)\n",
              "      (position_embeddings): Embedding(512, 768)\n",
              "      (token_type_embeddings): Embedding(2, 768)\n",
              "      (LayerNorm): LayerNorm((768,), eps=1e-12, elementwise_affine=True)\n",
              "      (dropout): Dropout(p=0.1, inplace=False)\n",
              "    )\n",
              "    (encoder): BertEncoder(\n",
              "      (layer): ModuleList(\n",
              "        (0-11): 12 x BertLayer(\n",
              "          (attention): BertAttention(\n",
              "            (self): BertSelfAttention(\n",
              "              (query): Linear(in_features=768, out_features=768, bias=True)\n",
              "              (key): Linear(in_features=768, out_features=768, bias=True)\n",
              "              (value): Linear(in_features=768, out_features=768, bias=True)\n",
              "              (dropout): Dropout(p=0.1, inplace=False)\n",
              "            )\n",
              "            (output): BertSelfOutput(\n",
              "              (dense): Linear(in_features=768, out_features=768, bias=True)\n",
              "              (LayerNorm): LayerNorm((768,), eps=1e-12, elementwise_affine=True)\n",
              "              (dropout): Dropout(p=0.1, inplace=False)\n",
              "            )\n",
              "          )\n",
              "          (intermediate): BertIntermediate(\n",
              "            (dense): Linear(in_features=768, out_features=3072, bias=True)\n",
              "            (intermediate_act_fn): GELUActivation()\n",
              "          )\n",
              "          (output): BertOutput(\n",
              "            (dense): Linear(in_features=3072, out_features=768, bias=True)\n",
              "            (LayerNorm): LayerNorm((768,), eps=1e-12, elementwise_affine=True)\n",
              "            (dropout): Dropout(p=0.1, inplace=False)\n",
              "          )\n",
              "        )\n",
              "      )\n",
              "    )\n",
              "    (pooler): BertPooler(\n",
              "      (dense): Linear(in_features=768, out_features=768, bias=True)\n",
              "      (activation): Tanh()\n",
              "    )\n",
              "  )\n",
              "  (dropout): Dropout(p=0.1, inplace=False)\n",
              "  (classifier): Linear(in_features=768, out_features=2, bias=True)\n",
              ")"
            ]
          },
          "metadata": {},
          "execution_count": 231
        }
      ],
      "source": [
        "# Fine-tune the model on the train set\n",
        "device = torch.device('cuda' if torch.cuda.is_available() else 'cpu')\n",
        "model.to(device)"
      ]
    },
    {
      "cell_type": "markdown",
      "metadata": {
        "id": "jtoE5e8zjZhZ"
      },
      "source": [
        "##Training loop"
      ]
    },
    {
      "cell_type": "code",
      "execution_count": null,
      "metadata": {
        "id": "yt9s9maR6SZU"
      },
      "outputs": [],
      "source": [
        "epochs = 4\n",
        "\n",
        "for epoch in range(epochs):\n",
        "    model.train()\n",
        "\n",
        "    train_loss = 0\n",
        "    for batch in train_loader:\n",
        "        optimizer.zero_grad()\n",
        "\n",
        "        input_ids = batch[0].to(device)\n",
        "        attention_mask = batch[1].to(device)\n",
        "        labels = batch[2].to(device)\n",
        "\n",
        "        outputs = model(input_ids, attention_mask=attention_mask, labels=labels)\n",
        "\n",
        "        loss = outputs.loss\n",
        "        train_loss += loss.item()\n",
        "\n",
        "        loss.backward()\n",
        "        optimizer.step()\n",
        "\n",
        "    scheduler.step()\n",
        "\n",
        "    print('Epoch: {}, Train Loss: {:.3f}'.format(epoch+1, train_loss/len(train_loader)))\n"
      ]
    },
    {
      "cell_type": "markdown",
      "metadata": {
        "id": "7inZ6gNrjcCc"
      },
      "source": [
        "##Evaluation Loop"
      ]
    },
    {
      "cell_type": "code",
      "execution_count": null,
      "metadata": {
        "id": "WEaO0Nb3_jmS"
      },
      "outputs": [],
      "source": [
        "# Evaluate the model on the test set\n",
        "##run this if youre training for the first time\n",
        "model.eval()\n",
        "\n",
        "test_loss = 0\n",
        "predictions = []\n",
        "\n",
        "for batch in test_loader:\n",
        "    with torch.no_grad():\n",
        "        input_ids = batch[0].to(device)\n",
        "        attention_mask = batch[1].to(device)\n",
        "        labels = batch[2].to(device)\n",
        "\n",
        "        outputs = model(input_ids, attention_mask=attention_mask, labels=labels)\n",
        "\n",
        "        loss = outputs.loss\n",
        "        test_loss += loss.item()\n",
        "\n",
        "        logits = outputs.logits.detach().cpu().numpy()\n",
        "        predictions.extend(np.argmax(logits, axis=1))\n",
        "\n",
        "test_accuracy = np.mean(predictions == test_labels.numpy())\n",
        "print('Test Accuracy: {:.3f}'.format(test_accuracy))"
      ]
    },
    {
      "cell_type": "code",
      "source": [
        "##run this if you load the save model\n",
        "model.eval()\n",
        "\n",
        "test_loss = 0\n",
        "predictions = []\n",
        "\n",
        "for batch in test_loader:\n",
        "    with torch.no_grad():\n",
        "        input_ids = batch[0].to(device)\n",
        "        attention_mask = batch[1].to(device)\n",
        "        labels = batch[2].to(device)\n",
        "\n",
        "        # move the model to the same device as the inputs\n",
        "        model = model.to(device)\n",
        "\n",
        "        outputs = model(input_ids, attention_mask=attention_mask, labels=labels)\n",
        "\n",
        "        loss = outputs.loss\n",
        "        test_loss += loss.item()\n",
        "\n",
        "        logits = outputs.logits.detach().cpu().numpy()\n",
        "        predictions.extend(np.argmax(logits, axis=1))\n",
        "\n",
        "test_accuracy = np.mean(predictions == test_labels.numpy())\n",
        "print('Test Accuracy: {:.3f}'.format(test_accuracy))\n"
      ],
      "metadata": {
        "colab": {
          "base_uri": "https://localhost:8080/"
        },
        "id": "8MsHG3fjjZQq",
        "outputId": "55b45226-f204-4f89-da99-75e55dc82194"
      },
      "execution_count": null,
      "outputs": [
        {
          "output_type": "stream",
          "name": "stdout",
          "text": [
            "Test Accuracy: 0.963\n"
          ]
        }
      ]
    },
    {
      "cell_type": "code",
      "execution_count": null,
      "metadata": {
        "id": "zLov9klT8GxH"
      },
      "outputs": [],
      "source": [
        "##uncomment the below line if you trained the model and not loaded the saved one\n",
        "#model.save_pretrained(\"MODEL_BERT\")"
      ]
    },
    {
      "cell_type": "code",
      "execution_count": null,
      "metadata": {
        "id": "H0tP9-AgCUok"
      },
      "outputs": [],
      "source": [
        "#load the pretrained fine tuned BERT model\n",
        "model = model.from_pretrained('/content/drive/MyDrive/Fake_News/model_bert')"
      ]
    },
    {
      "cell_type": "code",
      "execution_count": null,
      "metadata": {
        "id": "sH96majN2zXL"
      },
      "outputs": [],
      "source": [
        "#save the pretrained and fine tuned weights\n",
        "torch.save(model.state_dict(), 'weights.pth')\n"
      ]
    },
    {
      "cell_type": "markdown",
      "source": [
        "#Test on new input Text"
      ],
      "metadata": {
        "id": "DCV_IGOe7Cnc"
      }
    },
    {
      "cell_type": "code",
      "execution_count": null,
      "metadata": {
        "id": "-GaxtFgN1-KD",
        "colab": {
          "base_uri": "https://localhost:8080/"
        },
        "outputId": "3ffda114-88f4-42c5-bdd6-f31e27487089"
      },
      "outputs": [
        {
          "output_type": "stream",
          "name": "stderr",
          "text": [
            "Truncation was not explicitly activated but `max_length` is provided a specific value, please use `truncation=True` to explicitly truncate examples to max length. Defaulting to 'longest_first' truncation strategy. If you encode pairs of sequences (GLUE-style) with the tokenizer you can select this strategy more precisely by providing a specific strategy to `truncation`.\n"
          ]
        },
        {
          "output_type": "stream",
          "name": "stdout",
          "text": [
            "Negative\n"
          ]
        }
      ],
      "source": [
        "# Load the BERT tokenizer\n",
        "tokenizer = BertTokenizer.from_pretrained('bert-base-uncased', do_lower_case=True)\n",
        "\n",
        "# Input text\n",
        "text = \"The US believes the UN Secretary General is too willing to accommodate Russian interests, according to fresh revelations in classified documents leaked online.\"\n",
        "\n",
        "# Tokenize the input text\n",
        "encoding = tokenizer.encode_plus(\n",
        "    text,\n",
        "    add_special_tokens=True,\n",
        "    max_length=128,\n",
        "    return_token_type_ids=False,\n",
        "    pad_to_max_length=True,\n",
        "    return_attention_mask=True,\n",
        "    return_tensors='pt'\n",
        ")\n",
        "\n",
        "# Get the model prediction\n",
        "input_ids = encoding['input_ids'].to(device)\n",
        "attention_mask = encoding['attention_mask'].to(device)\n",
        "with torch.no_grad():\n",
        "    outputs = model(input_ids, attention_mask=attention_mask)\n",
        "logits = outputs.logits.detach().cpu().numpy()\n",
        "prediction = np.argmax(logits)\n",
        "\n",
        "# Print the prediction\n",
        "if prediction == 0:\n",
        "    print(\"Negative\")\n",
        "else:\n",
        "    print(\"Positive\")\n"
      ]
    },
    {
      "cell_type": "markdown",
      "source": [
        "#Test on new Texts"
      ],
      "metadata": {
        "id": "-UmfCXur6_F1"
      }
    },
    {
      "cell_type": "code",
      "source": [
        "# Set the device\n",
        "device = torch.device('cuda' if torch.cuda.is_available() else 'cpu')\n",
        "model.to(device)\n",
        "\n",
        "# Define a function to classify new input text\n",
        "def classify_text(text):\n",
        "    # Tokenize the input text\n",
        "    encoding = tokenizer(text, return_tensors='pt')\n",
        "\n",
        "    # Move the input to the device\n",
        "    input_ids = encoding['input_ids'].to(device)\n",
        "    attention_mask = encoding['attention_mask'].to(device)\n",
        "\n",
        "    # Make a prediction\n",
        "    with torch.no_grad():\n",
        "        output = model(input_ids, attention_mask=attention_mask)\n",
        "        logits = output.logits.detach().cpu().numpy()\n",
        "        prediction = np.argmax(logits)\n",
        "\n",
        "    return prediction\n",
        "\n",
        "# Test the function on some input text\n",
        "text1 = \"The US believes the UN Secretary General is too willing to accommodate Russian interests, according to fresh revelations in classified documents leaked online.\"\n",
        "text2 = \"Western Australia is bracing for the arrival of a major storm which could bring very destructive winds of up to 275 km/h (170 mph).\"\n",
        "text3 = \"The acting was amazing, but the plot was confusing.\"\n",
        "\n",
        "print(classify_text(text1))\n",
        "print(classify_text(text2))\n",
        "print(classify_text(text3))"
      ],
      "metadata": {
        "colab": {
          "base_uri": "https://localhost:8080/"
        },
        "id": "y2pc3ZobmNTI",
        "outputId": "a913ffa8-ae59-4805-efac-1b9ef93241a8"
      },
      "execution_count": null,
      "outputs": [
        {
          "output_type": "stream",
          "name": "stdout",
          "text": [
            "0\n",
            "1\n",
            "0\n"
          ]
        }
      ]
    },
    {
      "cell_type": "markdown",
      "metadata": {
        "id": "hNTJg_TdtF8x"
      },
      "source": [
        "##BERT with attention mechanism\n"
      ]
    },
    {
      "cell_type": "markdown",
      "metadata": {
        "id": "JqX8_8TBea88"
      },
      "source": [
        "imports"
      ]
    },
    {
      "cell_type": "code",
      "execution_count": null,
      "metadata": {
        "id": "ByZiGz-wsegh"
      },
      "outputs": [],
      "source": [
        "import torch\n",
        "import torch.nn as nn\n",
        "import torch.nn.functional as F\n",
        "from transformers import BertTokenizer, BertForSequenceClassification, BertModel"
      ]
    },
    {
      "cell_type": "markdown",
      "metadata": {
        "id": "1c79Qwu6eb6C"
      },
      "source": [
        "model definition"
      ]
    },
    {
      "cell_type": "markdown",
      "metadata": {
        "id": "GPTTwmptj1LM"
      },
      "source": [
        "##Attention mechanism: \n",
        "\n",
        "Adding an attention mechanism to the BERT output to highlight the most relevant parts of the article that are indicative of fake news. we have used use a self-attention mechanism, the multi-head attention mechanism, to identify the most important parts of the article."
      ]
    },
    {
      "cell_type": "code",
      "execution_count": null,
      "metadata": {
        "id": "8674JHcktIiK"
      },
      "outputs": [],
      "source": [
        "class MultiHeadAttention(nn.Module):\n",
        "    def __init__(self, hidden_size, num_heads):\n",
        "        super(MultiHeadAttention, self).__init__()\n",
        "        self.hidden_size = hidden_size\n",
        "        self.num_heads = num_heads\n",
        "        self.head_size = hidden_size // num_heads\n",
        "\n",
        "        self.query = nn.Linear(hidden_size, hidden_size)\n",
        "        self.key = nn.Linear(hidden_size, hidden_size)\n",
        "        self.value = nn.Linear(hidden_size, hidden_size)\n",
        "        self.projection = nn.Linear(hidden_size, hidden_size)\n",
        "\n",
        "    def forward(self, inputs):\n",
        "        batch_size = inputs.size(0)\n",
        "\n",
        "        # Linear transformations\n",
        "        Q = self.query(inputs).view(batch_size, -1, self.num_heads, self.head_size).transpose(1,2)\n",
        "        K = self.key(inputs).view(batch_size, -1, self.num_heads, self.head_size).transpose(1,2)\n",
        "        V = self.value(inputs).view(batch_size, -1, self.num_heads, self.head_size).transpose(1,2)\n",
        "\n",
        "        # Scaled Dot-Product Attention\n",
        "        attention_scores = torch.matmul(Q, K.transpose(-1,-2)) / self.head_size**0.5\n",
        "        attention_probs = F.softmax(attention_scores, dim=-1)\n",
        "        context = torch.matmul(attention_probs, V).transpose(1,2).contiguous().view(batch_size, -1, self.hidden_size)\n",
        "\n",
        "        # Output projection\n",
        "        output = self.projection(context)\n",
        "        return output\n",
        "\n",
        "class FakeNewsDetector(nn.Module):\n",
        "    def __init__(self, bert_model, num_classes):\n",
        "        super(FakeNewsDetector, self).__init__()\n",
        "        self.bert = bert_model\n",
        "        self.attention = MultiHeadAttention(bert_model.config.hidden_size, num_heads=4)\n",
        "        self.classifier = nn.Linear(bert_model.config.hidden_size, num_classes)\n",
        "\n",
        "    def forward(self, input_ids, attention_mask):\n",
        "        bert_output = self.bert(input_ids=input_ids, attention_mask=attention_mask)[0]  # output shape: (batch_size, seq_length, hidden_size)\n",
        "        attn_output = self.attention(bert_output)  # output shape: (batch_size, seq_length, hidden_size)\n",
        "        cls_output = attn_output[:, 0, :]  # take the first token as the output\n",
        "        logits = self.classifier(cls_output)  # output shape: (batch_size, num_classes)\n",
        "        return logits"
      ]
    },
    {
      "cell_type": "markdown",
      "metadata": {
        "id": "W1uv5Ff3edsT"
      },
      "source": [
        "data"
      ]
    },
    {
      "cell_type": "code",
      "execution_count": null,
      "metadata": {
        "id": "X11k6wPBtKE-"
      },
      "outputs": [],
      "source": [
        "# Load the preprocessed dataset\n",
        "df = pd.read_csv('preprocessed_dataset.csv')"
      ]
    },
    {
      "cell_type": "code",
      "execution_count": null,
      "metadata": {
        "id": "fe1_rR1ohMGY"
      },
      "outputs": [],
      "source": [
        "df.isna().sum()"
      ]
    },
    {
      "cell_type": "code",
      "execution_count": null,
      "metadata": {
        "id": "KVYuWpQwhMpF"
      },
      "outputs": [],
      "source": [
        "df = df.dropna()"
      ]
    },
    {
      "cell_type": "code",
      "execution_count": null,
      "metadata": {
        "id": "SUokVvhMhM8s"
      },
      "outputs": [],
      "source": [
        "df['text'].apply(lambda x: ps.remove_special_chars(x))"
      ]
    },
    {
      "cell_type": "code",
      "execution_count": null,
      "metadata": {
        "id": "k06XX5vmtLln"
      },
      "outputs": [],
      "source": [
        "# Split the dataset into train and test sets\n",
        "train_texts, test_texts, train_labels, test_labels = train_test_split(df['text'], df['class'], test_size=0.2, random_state=42)"
      ]
    },
    {
      "cell_type": "code",
      "execution_count": null,
      "metadata": {
        "id": "Hn-IFWxutNQo"
      },
      "outputs": [],
      "source": [
        "# Load the BERT tokenizer\n",
        "tokenizer = BertTokenizer.from_pretrained('bert-base-uncased', do_lower_case=True)\n"
      ]
    },
    {
      "cell_type": "code",
      "execution_count": null,
      "metadata": {
        "id": "RJFAJZ-IuDyr"
      },
      "outputs": [],
      "source": [
        "# Tokenize the train and test sets\n",
        "train_encodings = tokenizer(list(train_texts), truncation=True, padding=True)\n",
        "test_encodings = tokenizer(list(test_texts), truncation=True, padding=True)"
      ]
    },
    {
      "cell_type": "code",
      "execution_count": null,
      "metadata": {
        "id": "UatKUMBKeq7X"
      },
      "outputs": [],
      "source": [
        "# Convert the train and test labels to tensors\n",
        "train_labels = torch.tensor(train_labels.tolist())\n",
        "test_labels = torch.tensor(test_labels.tolist())"
      ]
    },
    {
      "cell_type": "code",
      "execution_count": null,
      "metadata": {
        "id": "SB8WRxJLhq9Y"
      },
      "outputs": [],
      "source": [
        "# Create a PyTorch DataLoader for the train and test sets\n",
        "train_dataset = TensorDataset(torch.tensor(train_encodings['input_ids']), torch.tensor(train_encodings['attention_mask']), train_labels)\n",
        "test_dataset = TensorDataset(torch.tensor(test_encodings['input_ids']), torch.tensor(test_encodings['attention_mask']), test_labels)\n",
        "\n",
        "train_loader = DataLoader(train_dataset, batch_size=16, shuffle=True)\n",
        "test_loader = DataLoader(test_dataset, batch_size=16, shuffle=False)"
      ]
    },
    {
      "cell_type": "markdown",
      "metadata": {
        "id": "wf7HcJtZh6u0"
      },
      "source": [
        "##Define the batch size and create the train and test data loaders"
      ]
    },
    {
      "cell_type": "code",
      "execution_count": null,
      "metadata": {
        "id": "sv0q9dN4h4vD"
      },
      "outputs": [],
      "source": [
        "batch_size = 16\n",
        "train_loader = DataLoader(train_dataset, batch_size=batch_size, shuffle=True)\n",
        "test_loader = DataLoader(test_dataset, batch_size=batch_size, shuffle=False)"
      ]
    },
    {
      "cell_type": "markdown",
      "metadata": {
        "id": "hmrC7AC9h-P7"
      },
      "source": [
        "##Instantiate the BERT model and the fake news detector"
      ]
    },
    {
      "cell_type": "code",
      "execution_count": null,
      "metadata": {
        "colab": {
          "base_uri": "https://localhost:8080/",
          "height": 124,
          "referenced_widgets": [
            "816bd6259be04189b0a6c083282cf5cb",
            "e5d4ffd470234c69ae75e38e832b2ae8",
            "6915e1bd476c43a4ad867e739b6b0f18",
            "fe3bcccdaf8849dfbf76cf41cea5a81a",
            "94068a58aeac404fabefe49d1f6f6a27",
            "d3a596011ff8433b9756b9664a1ded3a",
            "fcea30718ffc4596b6c07076abb4c160",
            "01728bad9bf14d1ab23fb3a483defe6e",
            "d5f539360201427aa8b82fb13e49e897",
            "ec2d924fe1fd48598210e41768a3b5af",
            "550c9f3014d24bf49ce60967720e150c"
          ]
        },
        "id": "kMgIAwp_iBGa",
        "outputId": "3dbdccd2-b1dc-4ab3-a02a-16d27c20179e"
      },
      "outputs": [
        {
          "data": {
            "application/vnd.jupyter.widget-view+json": {
              "model_id": "816bd6259be04189b0a6c083282cf5cb",
              "version_major": 2,
              "version_minor": 0
            },
            "text/plain": [
              "Downloading pytorch_model.bin:   0%|          | 0.00/440M [00:00<?, ?B/s]"
            ]
          },
          "metadata": {},
          "output_type": "display_data"
        },
        {
          "name": "stderr",
          "output_type": "stream",
          "text": [
            "Some weights of the model checkpoint at bert-base-uncased were not used when initializing BertModel: ['cls.predictions.bias', 'cls.predictions.transform.LayerNorm.weight', 'cls.seq_relationship.weight', 'cls.predictions.transform.LayerNorm.bias', 'cls.predictions.decoder.weight', 'cls.predictions.transform.dense.bias', 'cls.predictions.transform.dense.weight', 'cls.seq_relationship.bias']\n",
            "- This IS expected if you are initializing BertModel from the checkpoint of a model trained on another task or with another architecture (e.g. initializing a BertForSequenceClassification model from a BertForPreTraining model).\n",
            "- This IS NOT expected if you are initializing BertModel from the checkpoint of a model that you expect to be exactly identical (initializing a BertForSequenceClassification model from a BertForSequenceClassification model).\n"
          ]
        }
      ],
      "source": [
        "bert_model = BertModel.from_pretrained('bert-base-uncased')\n",
        "fake_news_detector = FakeNewsDetector(bert_model, num_classes=2)"
      ]
    },
    {
      "cell_type": "markdown",
      "metadata": {
        "id": "tKclY4xCiC5n"
      },
      "source": [
        "##Define the loss function and the optimizer"
      ]
    },
    {
      "cell_type": "code",
      "execution_count": null,
      "metadata": {
        "id": "MmdZ3PVFiFWO"
      },
      "outputs": [],
      "source": [
        "criterion = nn.CrossEntropyLoss()\n",
        "optimizer = torch.optim.Adam(fake_news_detector.parameters(), lr=1e-5)"
      ]
    },
    {
      "cell_type": "code",
      "execution_count": null,
      "metadata": {
        "colab": {
          "base_uri": "https://localhost:8080/"
        },
        "id": "vHvb7b1elsmA",
        "outputId": "4d310bec-20a4-4486-8112-b5b3b72a2a2a"
      },
      "outputs": [
        {
          "data": {
            "text/plain": [
              "FakeNewsDetector(\n",
              "  (bert): BertModel(\n",
              "    (embeddings): BertEmbeddings(\n",
              "      (word_embeddings): Embedding(30522, 768, padding_idx=0)\n",
              "      (position_embeddings): Embedding(512, 768)\n",
              "      (token_type_embeddings): Embedding(2, 768)\n",
              "      (LayerNorm): LayerNorm((768,), eps=1e-12, elementwise_affine=True)\n",
              "      (dropout): Dropout(p=0.1, inplace=False)\n",
              "    )\n",
              "    (encoder): BertEncoder(\n",
              "      (layer): ModuleList(\n",
              "        (0-11): 12 x BertLayer(\n",
              "          (attention): BertAttention(\n",
              "            (self): BertSelfAttention(\n",
              "              (query): Linear(in_features=768, out_features=768, bias=True)\n",
              "              (key): Linear(in_features=768, out_features=768, bias=True)\n",
              "              (value): Linear(in_features=768, out_features=768, bias=True)\n",
              "              (dropout): Dropout(p=0.1, inplace=False)\n",
              "            )\n",
              "            (output): BertSelfOutput(\n",
              "              (dense): Linear(in_features=768, out_features=768, bias=True)\n",
              "              (LayerNorm): LayerNorm((768,), eps=1e-12, elementwise_affine=True)\n",
              "              (dropout): Dropout(p=0.1, inplace=False)\n",
              "            )\n",
              "          )\n",
              "          (intermediate): BertIntermediate(\n",
              "            (dense): Linear(in_features=768, out_features=3072, bias=True)\n",
              "            (intermediate_act_fn): GELUActivation()\n",
              "          )\n",
              "          (output): BertOutput(\n",
              "            (dense): Linear(in_features=3072, out_features=768, bias=True)\n",
              "            (LayerNorm): LayerNorm((768,), eps=1e-12, elementwise_affine=True)\n",
              "            (dropout): Dropout(p=0.1, inplace=False)\n",
              "          )\n",
              "        )\n",
              "      )\n",
              "    )\n",
              "    (pooler): BertPooler(\n",
              "      (dense): Linear(in_features=768, out_features=768, bias=True)\n",
              "      (activation): Tanh()\n",
              "    )\n",
              "  )\n",
              "  (attention): MultiHeadAttention(\n",
              "    (query): Linear(in_features=768, out_features=768, bias=True)\n",
              "    (key): Linear(in_features=768, out_features=768, bias=True)\n",
              "    (value): Linear(in_features=768, out_features=768, bias=True)\n",
              "    (projection): Linear(in_features=768, out_features=768, bias=True)\n",
              "  )\n",
              "  (classifier): Linear(in_features=768, out_features=2, bias=True)\n",
              ")"
            ]
          },
          "execution_count": 83,
          "metadata": {},
          "output_type": "execute_result"
        }
      ],
      "source": [
        "device = torch.device(\"cuda\" if torch.cuda.is_available() else \"cpu\")\n",
        "fake_news_detector.to(device)"
      ]
    },
    {
      "cell_type": "markdown",
      "metadata": {
        "id": "M52TXDlHiJRw"
      },
      "source": [
        "##Train the model"
      ]
    },
    {
      "cell_type": "code",
      "execution_count": null,
      "metadata": {
        "colab": {
          "background_save": true
        },
        "id": "tb8pMlokiHBp"
      },
      "outputs": [],
      "source": [
        "num_epochs = 5\n",
        "for epoch in range(num_epochs):\n",
        "  # Training loop\n",
        "  for batch in train_loader:\n",
        "    input_ids = batch[0].to(device)\n",
        "    attention_mask = batch[1].to(device)\n",
        "    labels = batch[2].to(device)\n",
        "    optimizer.zero_grad()\n",
        "\n",
        "    outputs = fake_news_detector(input_ids, attention_mask)\n",
        "\n",
        "    loss = criterion(outputs, labels)\n",
        "    loss.backward()\n",
        "\n",
        "    optimizer.step()\n"
      ]
    },
    {
      "cell_type": "code",
      "execution_count": null,
      "metadata": {
        "id": "kJm7YQUsie3Z"
      },
      "outputs": [],
      "source": [
        "# Test loop\n",
        "with torch.no_grad():\n",
        "    correct = 0\n",
        "    total = 0\n",
        "\n",
        "    for batch in test_loader:\n",
        "        input_ids = batch[0].to(device)\n",
        "        attention_mask = batch[1].to(device)\n",
        "        labels = batch[2].to(device)\n",
        "\n",
        "        outputs = fake_news_detector(input_ids, attention_mask)\n",
        "\n",
        "        _, predicted = torch.max(outputs.data, 1)\n",
        "\n",
        "        total += labels.size(0)\n",
        "        correct += (predicted == labels).sum().item()\n",
        "\n",
        "    accuracy = 100 * correct / total\n",
        "    print('Epoch: {}, Test Accuracy: {}%'.format(epoch+1, accuracy))"
      ]
    },
    {
      "cell_type": "markdown",
      "metadata": {
        "id": "V-bHmQT9_GmN"
      },
      "source": [
        "================================================================================\n",
        "##2nd try for Fine Tuning BERT\n",
        "\n",
        "================================================================================"
      ]
    },
    {
      "cell_type": "code",
      "execution_count": null,
      "metadata": {
        "id": "7j9ySMKH_SYJ"
      },
      "outputs": [],
      "source": []
    }
  ],
  "metadata": {
    "accelerator": "GPU",
    "colab": {
      "provenance": []
    },
    "gpuClass": "standard",
    "kernelspec": {
      "display_name": "Python 3",
      "name": "python3"
    },
    "language_info": {
      "name": "python"
    },
    "widgets": {
      "application/vnd.jupyter.widget-state+json": {
        "01728bad9bf14d1ab23fb3a483defe6e": {
          "model_module": "@jupyter-widgets/base",
          "model_module_version": "1.2.0",
          "model_name": "LayoutModel",
          "state": {
            "_model_module": "@jupyter-widgets/base",
            "_model_module_version": "1.2.0",
            "_model_name": "LayoutModel",
            "_view_count": null,
            "_view_module": "@jupyter-widgets/base",
            "_view_module_version": "1.2.0",
            "_view_name": "LayoutView",
            "align_content": null,
            "align_items": null,
            "align_self": null,
            "border": null,
            "bottom": null,
            "display": null,
            "flex": null,
            "flex_flow": null,
            "grid_area": null,
            "grid_auto_columns": null,
            "grid_auto_flow": null,
            "grid_auto_rows": null,
            "grid_column": null,
            "grid_gap": null,
            "grid_row": null,
            "grid_template_areas": null,
            "grid_template_columns": null,
            "grid_template_rows": null,
            "height": null,
            "justify_content": null,
            "justify_items": null,
            "left": null,
            "margin": null,
            "max_height": null,
            "max_width": null,
            "min_height": null,
            "min_width": null,
            "object_fit": null,
            "object_position": null,
            "order": null,
            "overflow": null,
            "overflow_x": null,
            "overflow_y": null,
            "padding": null,
            "right": null,
            "top": null,
            "visibility": null,
            "width": null
          }
        },
        "550c9f3014d24bf49ce60967720e150c": {
          "model_module": "@jupyter-widgets/controls",
          "model_module_version": "1.5.0",
          "model_name": "DescriptionStyleModel",
          "state": {
            "_model_module": "@jupyter-widgets/controls",
            "_model_module_version": "1.5.0",
            "_model_name": "DescriptionStyleModel",
            "_view_count": null,
            "_view_module": "@jupyter-widgets/base",
            "_view_module_version": "1.2.0",
            "_view_name": "StyleView",
            "description_width": ""
          }
        },
        "6915e1bd476c43a4ad867e739b6b0f18": {
          "model_module": "@jupyter-widgets/controls",
          "model_module_version": "1.5.0",
          "model_name": "FloatProgressModel",
          "state": {
            "_dom_classes": [],
            "_model_module": "@jupyter-widgets/controls",
            "_model_module_version": "1.5.0",
            "_model_name": "FloatProgressModel",
            "_view_count": null,
            "_view_module": "@jupyter-widgets/controls",
            "_view_module_version": "1.5.0",
            "_view_name": "ProgressView",
            "bar_style": "success",
            "description": "",
            "description_tooltip": null,
            "layout": "IPY_MODEL_01728bad9bf14d1ab23fb3a483defe6e",
            "max": 440473133,
            "min": 0,
            "orientation": "horizontal",
            "style": "IPY_MODEL_d5f539360201427aa8b82fb13e49e897",
            "value": 440473133
          }
        },
        "816bd6259be04189b0a6c083282cf5cb": {
          "model_module": "@jupyter-widgets/controls",
          "model_module_version": "1.5.0",
          "model_name": "HBoxModel",
          "state": {
            "_dom_classes": [],
            "_model_module": "@jupyter-widgets/controls",
            "_model_module_version": "1.5.0",
            "_model_name": "HBoxModel",
            "_view_count": null,
            "_view_module": "@jupyter-widgets/controls",
            "_view_module_version": "1.5.0",
            "_view_name": "HBoxView",
            "box_style": "",
            "children": [
              "IPY_MODEL_e5d4ffd470234c69ae75e38e832b2ae8",
              "IPY_MODEL_6915e1bd476c43a4ad867e739b6b0f18",
              "IPY_MODEL_fe3bcccdaf8849dfbf76cf41cea5a81a"
            ],
            "layout": "IPY_MODEL_94068a58aeac404fabefe49d1f6f6a27"
          }
        },
        "94068a58aeac404fabefe49d1f6f6a27": {
          "model_module": "@jupyter-widgets/base",
          "model_module_version": "1.2.0",
          "model_name": "LayoutModel",
          "state": {
            "_model_module": "@jupyter-widgets/base",
            "_model_module_version": "1.2.0",
            "_model_name": "LayoutModel",
            "_view_count": null,
            "_view_module": "@jupyter-widgets/base",
            "_view_module_version": "1.2.0",
            "_view_name": "LayoutView",
            "align_content": null,
            "align_items": null,
            "align_self": null,
            "border": null,
            "bottom": null,
            "display": null,
            "flex": null,
            "flex_flow": null,
            "grid_area": null,
            "grid_auto_columns": null,
            "grid_auto_flow": null,
            "grid_auto_rows": null,
            "grid_column": null,
            "grid_gap": null,
            "grid_row": null,
            "grid_template_areas": null,
            "grid_template_columns": null,
            "grid_template_rows": null,
            "height": null,
            "justify_content": null,
            "justify_items": null,
            "left": null,
            "margin": null,
            "max_height": null,
            "max_width": null,
            "min_height": null,
            "min_width": null,
            "object_fit": null,
            "object_position": null,
            "order": null,
            "overflow": null,
            "overflow_x": null,
            "overflow_y": null,
            "padding": null,
            "right": null,
            "top": null,
            "visibility": null,
            "width": null
          }
        },
        "d3a596011ff8433b9756b9664a1ded3a": {
          "model_module": "@jupyter-widgets/base",
          "model_module_version": "1.2.0",
          "model_name": "LayoutModel",
          "state": {
            "_model_module": "@jupyter-widgets/base",
            "_model_module_version": "1.2.0",
            "_model_name": "LayoutModel",
            "_view_count": null,
            "_view_module": "@jupyter-widgets/base",
            "_view_module_version": "1.2.0",
            "_view_name": "LayoutView",
            "align_content": null,
            "align_items": null,
            "align_self": null,
            "border": null,
            "bottom": null,
            "display": null,
            "flex": null,
            "flex_flow": null,
            "grid_area": null,
            "grid_auto_columns": null,
            "grid_auto_flow": null,
            "grid_auto_rows": null,
            "grid_column": null,
            "grid_gap": null,
            "grid_row": null,
            "grid_template_areas": null,
            "grid_template_columns": null,
            "grid_template_rows": null,
            "height": null,
            "justify_content": null,
            "justify_items": null,
            "left": null,
            "margin": null,
            "max_height": null,
            "max_width": null,
            "min_height": null,
            "min_width": null,
            "object_fit": null,
            "object_position": null,
            "order": null,
            "overflow": null,
            "overflow_x": null,
            "overflow_y": null,
            "padding": null,
            "right": null,
            "top": null,
            "visibility": null,
            "width": null
          }
        },
        "d5f539360201427aa8b82fb13e49e897": {
          "model_module": "@jupyter-widgets/controls",
          "model_module_version": "1.5.0",
          "model_name": "ProgressStyleModel",
          "state": {
            "_model_module": "@jupyter-widgets/controls",
            "_model_module_version": "1.5.0",
            "_model_name": "ProgressStyleModel",
            "_view_count": null,
            "_view_module": "@jupyter-widgets/base",
            "_view_module_version": "1.2.0",
            "_view_name": "StyleView",
            "bar_color": null,
            "description_width": ""
          }
        },
        "e5d4ffd470234c69ae75e38e832b2ae8": {
          "model_module": "@jupyter-widgets/controls",
          "model_module_version": "1.5.0",
          "model_name": "HTMLModel",
          "state": {
            "_dom_classes": [],
            "_model_module": "@jupyter-widgets/controls",
            "_model_module_version": "1.5.0",
            "_model_name": "HTMLModel",
            "_view_count": null,
            "_view_module": "@jupyter-widgets/controls",
            "_view_module_version": "1.5.0",
            "_view_name": "HTMLView",
            "description": "",
            "description_tooltip": null,
            "layout": "IPY_MODEL_d3a596011ff8433b9756b9664a1ded3a",
            "placeholder": "​",
            "style": "IPY_MODEL_fcea30718ffc4596b6c07076abb4c160",
            "value": "Downloading pytorch_model.bin: 100%"
          }
        },
        "ec2d924fe1fd48598210e41768a3b5af": {
          "model_module": "@jupyter-widgets/base",
          "model_module_version": "1.2.0",
          "model_name": "LayoutModel",
          "state": {
            "_model_module": "@jupyter-widgets/base",
            "_model_module_version": "1.2.0",
            "_model_name": "LayoutModel",
            "_view_count": null,
            "_view_module": "@jupyter-widgets/base",
            "_view_module_version": "1.2.0",
            "_view_name": "LayoutView",
            "align_content": null,
            "align_items": null,
            "align_self": null,
            "border": null,
            "bottom": null,
            "display": null,
            "flex": null,
            "flex_flow": null,
            "grid_area": null,
            "grid_auto_columns": null,
            "grid_auto_flow": null,
            "grid_auto_rows": null,
            "grid_column": null,
            "grid_gap": null,
            "grid_row": null,
            "grid_template_areas": null,
            "grid_template_columns": null,
            "grid_template_rows": null,
            "height": null,
            "justify_content": null,
            "justify_items": null,
            "left": null,
            "margin": null,
            "max_height": null,
            "max_width": null,
            "min_height": null,
            "min_width": null,
            "object_fit": null,
            "object_position": null,
            "order": null,
            "overflow": null,
            "overflow_x": null,
            "overflow_y": null,
            "padding": null,
            "right": null,
            "top": null,
            "visibility": null,
            "width": null
          }
        },
        "fcea30718ffc4596b6c07076abb4c160": {
          "model_module": "@jupyter-widgets/controls",
          "model_module_version": "1.5.0",
          "model_name": "DescriptionStyleModel",
          "state": {
            "_model_module": "@jupyter-widgets/controls",
            "_model_module_version": "1.5.0",
            "_model_name": "DescriptionStyleModel",
            "_view_count": null,
            "_view_module": "@jupyter-widgets/base",
            "_view_module_version": "1.2.0",
            "_view_name": "StyleView",
            "description_width": ""
          }
        },
        "fe3bcccdaf8849dfbf76cf41cea5a81a": {
          "model_module": "@jupyter-widgets/controls",
          "model_module_version": "1.5.0",
          "model_name": "HTMLModel",
          "state": {
            "_dom_classes": [],
            "_model_module": "@jupyter-widgets/controls",
            "_model_module_version": "1.5.0",
            "_model_name": "HTMLModel",
            "_view_count": null,
            "_view_module": "@jupyter-widgets/controls",
            "_view_module_version": "1.5.0",
            "_view_name": "HTMLView",
            "description": "",
            "description_tooltip": null,
            "layout": "IPY_MODEL_ec2d924fe1fd48598210e41768a3b5af",
            "placeholder": "​",
            "style": "IPY_MODEL_550c9f3014d24bf49ce60967720e150c",
            "value": " 440M/440M [00:15&lt;00:00, 88.3MB/s]"
          }
        },
        "6a3749bbb4204de786a2acbde57a906b": {
          "model_module": "@jupyter-widgets/controls",
          "model_name": "HBoxModel",
          "model_module_version": "1.5.0",
          "state": {
            "_dom_classes": [],
            "_model_module": "@jupyter-widgets/controls",
            "_model_module_version": "1.5.0",
            "_model_name": "HBoxModel",
            "_view_count": null,
            "_view_module": "@jupyter-widgets/controls",
            "_view_module_version": "1.5.0",
            "_view_name": "HBoxView",
            "box_style": "",
            "children": [
              "IPY_MODEL_b60bfd51b44a469d83cfb2cfec1e61ff",
              "IPY_MODEL_359cc9c4bbec444b83635ad5e120ec64",
              "IPY_MODEL_6a8aadd4ba824b5684c6f676d216897f"
            ],
            "layout": "IPY_MODEL_221d4ae8459c40f7b48c33da0bb5e78c"
          }
        },
        "b60bfd51b44a469d83cfb2cfec1e61ff": {
          "model_module": "@jupyter-widgets/controls",
          "model_name": "HTMLModel",
          "model_module_version": "1.5.0",
          "state": {
            "_dom_classes": [],
            "_model_module": "@jupyter-widgets/controls",
            "_model_module_version": "1.5.0",
            "_model_name": "HTMLModel",
            "_view_count": null,
            "_view_module": "@jupyter-widgets/controls",
            "_view_module_version": "1.5.0",
            "_view_name": "HTMLView",
            "description": "",
            "description_tooltip": null,
            "layout": "IPY_MODEL_6d2a440b7591438980e50f74dd32974f",
            "placeholder": "​",
            "style": "IPY_MODEL_229f8dc4ec234f92b875224995d5c136",
            "value": "Downloading (…)solve/main/vocab.txt: 100%"
          }
        },
        "359cc9c4bbec444b83635ad5e120ec64": {
          "model_module": "@jupyter-widgets/controls",
          "model_name": "FloatProgressModel",
          "model_module_version": "1.5.0",
          "state": {
            "_dom_classes": [],
            "_model_module": "@jupyter-widgets/controls",
            "_model_module_version": "1.5.0",
            "_model_name": "FloatProgressModel",
            "_view_count": null,
            "_view_module": "@jupyter-widgets/controls",
            "_view_module_version": "1.5.0",
            "_view_name": "ProgressView",
            "bar_style": "success",
            "description": "",
            "description_tooltip": null,
            "layout": "IPY_MODEL_955dfbdeebc14887bcb8aa34955eeaa2",
            "max": 231508,
            "min": 0,
            "orientation": "horizontal",
            "style": "IPY_MODEL_128dd44a4e994d189019489802ca7c91",
            "value": 231508
          }
        },
        "6a8aadd4ba824b5684c6f676d216897f": {
          "model_module": "@jupyter-widgets/controls",
          "model_name": "HTMLModel",
          "model_module_version": "1.5.0",
          "state": {
            "_dom_classes": [],
            "_model_module": "@jupyter-widgets/controls",
            "_model_module_version": "1.5.0",
            "_model_name": "HTMLModel",
            "_view_count": null,
            "_view_module": "@jupyter-widgets/controls",
            "_view_module_version": "1.5.0",
            "_view_name": "HTMLView",
            "description": "",
            "description_tooltip": null,
            "layout": "IPY_MODEL_6e06373362194c429329c3cf3b9155da",
            "placeholder": "​",
            "style": "IPY_MODEL_7e57245e56cb4d9ba78b09d1b99c78d4",
            "value": " 232k/232k [00:00&lt;00:00, 1.38MB/s]"
          }
        },
        "221d4ae8459c40f7b48c33da0bb5e78c": {
          "model_module": "@jupyter-widgets/base",
          "model_name": "LayoutModel",
          "model_module_version": "1.2.0",
          "state": {
            "_model_module": "@jupyter-widgets/base",
            "_model_module_version": "1.2.0",
            "_model_name": "LayoutModel",
            "_view_count": null,
            "_view_module": "@jupyter-widgets/base",
            "_view_module_version": "1.2.0",
            "_view_name": "LayoutView",
            "align_content": null,
            "align_items": null,
            "align_self": null,
            "border": null,
            "bottom": null,
            "display": null,
            "flex": null,
            "flex_flow": null,
            "grid_area": null,
            "grid_auto_columns": null,
            "grid_auto_flow": null,
            "grid_auto_rows": null,
            "grid_column": null,
            "grid_gap": null,
            "grid_row": null,
            "grid_template_areas": null,
            "grid_template_columns": null,
            "grid_template_rows": null,
            "height": null,
            "justify_content": null,
            "justify_items": null,
            "left": null,
            "margin": null,
            "max_height": null,
            "max_width": null,
            "min_height": null,
            "min_width": null,
            "object_fit": null,
            "object_position": null,
            "order": null,
            "overflow": null,
            "overflow_x": null,
            "overflow_y": null,
            "padding": null,
            "right": null,
            "top": null,
            "visibility": null,
            "width": null
          }
        },
        "6d2a440b7591438980e50f74dd32974f": {
          "model_module": "@jupyter-widgets/base",
          "model_name": "LayoutModel",
          "model_module_version": "1.2.0",
          "state": {
            "_model_module": "@jupyter-widgets/base",
            "_model_module_version": "1.2.0",
            "_model_name": "LayoutModel",
            "_view_count": null,
            "_view_module": "@jupyter-widgets/base",
            "_view_module_version": "1.2.0",
            "_view_name": "LayoutView",
            "align_content": null,
            "align_items": null,
            "align_self": null,
            "border": null,
            "bottom": null,
            "display": null,
            "flex": null,
            "flex_flow": null,
            "grid_area": null,
            "grid_auto_columns": null,
            "grid_auto_flow": null,
            "grid_auto_rows": null,
            "grid_column": null,
            "grid_gap": null,
            "grid_row": null,
            "grid_template_areas": null,
            "grid_template_columns": null,
            "grid_template_rows": null,
            "height": null,
            "justify_content": null,
            "justify_items": null,
            "left": null,
            "margin": null,
            "max_height": null,
            "max_width": null,
            "min_height": null,
            "min_width": null,
            "object_fit": null,
            "object_position": null,
            "order": null,
            "overflow": null,
            "overflow_x": null,
            "overflow_y": null,
            "padding": null,
            "right": null,
            "top": null,
            "visibility": null,
            "width": null
          }
        },
        "229f8dc4ec234f92b875224995d5c136": {
          "model_module": "@jupyter-widgets/controls",
          "model_name": "DescriptionStyleModel",
          "model_module_version": "1.5.0",
          "state": {
            "_model_module": "@jupyter-widgets/controls",
            "_model_module_version": "1.5.0",
            "_model_name": "DescriptionStyleModel",
            "_view_count": null,
            "_view_module": "@jupyter-widgets/base",
            "_view_module_version": "1.2.0",
            "_view_name": "StyleView",
            "description_width": ""
          }
        },
        "955dfbdeebc14887bcb8aa34955eeaa2": {
          "model_module": "@jupyter-widgets/base",
          "model_name": "LayoutModel",
          "model_module_version": "1.2.0",
          "state": {
            "_model_module": "@jupyter-widgets/base",
            "_model_module_version": "1.2.0",
            "_model_name": "LayoutModel",
            "_view_count": null,
            "_view_module": "@jupyter-widgets/base",
            "_view_module_version": "1.2.0",
            "_view_name": "LayoutView",
            "align_content": null,
            "align_items": null,
            "align_self": null,
            "border": null,
            "bottom": null,
            "display": null,
            "flex": null,
            "flex_flow": null,
            "grid_area": null,
            "grid_auto_columns": null,
            "grid_auto_flow": null,
            "grid_auto_rows": null,
            "grid_column": null,
            "grid_gap": null,
            "grid_row": null,
            "grid_template_areas": null,
            "grid_template_columns": null,
            "grid_template_rows": null,
            "height": null,
            "justify_content": null,
            "justify_items": null,
            "left": null,
            "margin": null,
            "max_height": null,
            "max_width": null,
            "min_height": null,
            "min_width": null,
            "object_fit": null,
            "object_position": null,
            "order": null,
            "overflow": null,
            "overflow_x": null,
            "overflow_y": null,
            "padding": null,
            "right": null,
            "top": null,
            "visibility": null,
            "width": null
          }
        },
        "128dd44a4e994d189019489802ca7c91": {
          "model_module": "@jupyter-widgets/controls",
          "model_name": "ProgressStyleModel",
          "model_module_version": "1.5.0",
          "state": {
            "_model_module": "@jupyter-widgets/controls",
            "_model_module_version": "1.5.0",
            "_model_name": "ProgressStyleModel",
            "_view_count": null,
            "_view_module": "@jupyter-widgets/base",
            "_view_module_version": "1.2.0",
            "_view_name": "StyleView",
            "bar_color": null,
            "description_width": ""
          }
        },
        "6e06373362194c429329c3cf3b9155da": {
          "model_module": "@jupyter-widgets/base",
          "model_name": "LayoutModel",
          "model_module_version": "1.2.0",
          "state": {
            "_model_module": "@jupyter-widgets/base",
            "_model_module_version": "1.2.0",
            "_model_name": "LayoutModel",
            "_view_count": null,
            "_view_module": "@jupyter-widgets/base",
            "_view_module_version": "1.2.0",
            "_view_name": "LayoutView",
            "align_content": null,
            "align_items": null,
            "align_self": null,
            "border": null,
            "bottom": null,
            "display": null,
            "flex": null,
            "flex_flow": null,
            "grid_area": null,
            "grid_auto_columns": null,
            "grid_auto_flow": null,
            "grid_auto_rows": null,
            "grid_column": null,
            "grid_gap": null,
            "grid_row": null,
            "grid_template_areas": null,
            "grid_template_columns": null,
            "grid_template_rows": null,
            "height": null,
            "justify_content": null,
            "justify_items": null,
            "left": null,
            "margin": null,
            "max_height": null,
            "max_width": null,
            "min_height": null,
            "min_width": null,
            "object_fit": null,
            "object_position": null,
            "order": null,
            "overflow": null,
            "overflow_x": null,
            "overflow_y": null,
            "padding": null,
            "right": null,
            "top": null,
            "visibility": null,
            "width": null
          }
        },
        "7e57245e56cb4d9ba78b09d1b99c78d4": {
          "model_module": "@jupyter-widgets/controls",
          "model_name": "DescriptionStyleModel",
          "model_module_version": "1.5.0",
          "state": {
            "_model_module": "@jupyter-widgets/controls",
            "_model_module_version": "1.5.0",
            "_model_name": "DescriptionStyleModel",
            "_view_count": null,
            "_view_module": "@jupyter-widgets/base",
            "_view_module_version": "1.2.0",
            "_view_name": "StyleView",
            "description_width": ""
          }
        },
        "ef538574e06b488c977f9115ad05b4bd": {
          "model_module": "@jupyter-widgets/controls",
          "model_name": "HBoxModel",
          "model_module_version": "1.5.0",
          "state": {
            "_dom_classes": [],
            "_model_module": "@jupyter-widgets/controls",
            "_model_module_version": "1.5.0",
            "_model_name": "HBoxModel",
            "_view_count": null,
            "_view_module": "@jupyter-widgets/controls",
            "_view_module_version": "1.5.0",
            "_view_name": "HBoxView",
            "box_style": "",
            "children": [
              "IPY_MODEL_a88da337e7c04d1f96e7d88775c1ddbc",
              "IPY_MODEL_4e3b4dbe54c44a979c8a8f3044e8f227",
              "IPY_MODEL_c41557e3cd7747ffbf28456ead4734d2"
            ],
            "layout": "IPY_MODEL_2747aac22666498f8814fed9f6ceaf06"
          }
        },
        "a88da337e7c04d1f96e7d88775c1ddbc": {
          "model_module": "@jupyter-widgets/controls",
          "model_name": "HTMLModel",
          "model_module_version": "1.5.0",
          "state": {
            "_dom_classes": [],
            "_model_module": "@jupyter-widgets/controls",
            "_model_module_version": "1.5.0",
            "_model_name": "HTMLModel",
            "_view_count": null,
            "_view_module": "@jupyter-widgets/controls",
            "_view_module_version": "1.5.0",
            "_view_name": "HTMLView",
            "description": "",
            "description_tooltip": null,
            "layout": "IPY_MODEL_46f6aec76f84461894ae37c636aa7e32",
            "placeholder": "​",
            "style": "IPY_MODEL_9068e11873b34e01bc320d6bd2e2ce3a",
            "value": "Downloading (…)lve/main/config.json: 100%"
          }
        },
        "4e3b4dbe54c44a979c8a8f3044e8f227": {
          "model_module": "@jupyter-widgets/controls",
          "model_name": "FloatProgressModel",
          "model_module_version": "1.5.0",
          "state": {
            "_dom_classes": [],
            "_model_module": "@jupyter-widgets/controls",
            "_model_module_version": "1.5.0",
            "_model_name": "FloatProgressModel",
            "_view_count": null,
            "_view_module": "@jupyter-widgets/controls",
            "_view_module_version": "1.5.0",
            "_view_name": "ProgressView",
            "bar_style": "success",
            "description": "",
            "description_tooltip": null,
            "layout": "IPY_MODEL_0f7aff5ed2ee4acebffe82c6957631ff",
            "max": 570,
            "min": 0,
            "orientation": "horizontal",
            "style": "IPY_MODEL_ea0f355a327a47e8955cd0b9efb4dc23",
            "value": 570
          }
        },
        "c41557e3cd7747ffbf28456ead4734d2": {
          "model_module": "@jupyter-widgets/controls",
          "model_name": "HTMLModel",
          "model_module_version": "1.5.0",
          "state": {
            "_dom_classes": [],
            "_model_module": "@jupyter-widgets/controls",
            "_model_module_version": "1.5.0",
            "_model_name": "HTMLModel",
            "_view_count": null,
            "_view_module": "@jupyter-widgets/controls",
            "_view_module_version": "1.5.0",
            "_view_name": "HTMLView",
            "description": "",
            "description_tooltip": null,
            "layout": "IPY_MODEL_a4ca6d8bb4924823a600cf9192a49bcf",
            "placeholder": "​",
            "style": "IPY_MODEL_0f9c6dc9823c48c4b1101df849d337ff",
            "value": " 570/570 [00:00&lt;00:00, 21.1kB/s]"
          }
        },
        "2747aac22666498f8814fed9f6ceaf06": {
          "model_module": "@jupyter-widgets/base",
          "model_name": "LayoutModel",
          "model_module_version": "1.2.0",
          "state": {
            "_model_module": "@jupyter-widgets/base",
            "_model_module_version": "1.2.0",
            "_model_name": "LayoutModel",
            "_view_count": null,
            "_view_module": "@jupyter-widgets/base",
            "_view_module_version": "1.2.0",
            "_view_name": "LayoutView",
            "align_content": null,
            "align_items": null,
            "align_self": null,
            "border": null,
            "bottom": null,
            "display": null,
            "flex": null,
            "flex_flow": null,
            "grid_area": null,
            "grid_auto_columns": null,
            "grid_auto_flow": null,
            "grid_auto_rows": null,
            "grid_column": null,
            "grid_gap": null,
            "grid_row": null,
            "grid_template_areas": null,
            "grid_template_columns": null,
            "grid_template_rows": null,
            "height": null,
            "justify_content": null,
            "justify_items": null,
            "left": null,
            "margin": null,
            "max_height": null,
            "max_width": null,
            "min_height": null,
            "min_width": null,
            "object_fit": null,
            "object_position": null,
            "order": null,
            "overflow": null,
            "overflow_x": null,
            "overflow_y": null,
            "padding": null,
            "right": null,
            "top": null,
            "visibility": null,
            "width": null
          }
        },
        "46f6aec76f84461894ae37c636aa7e32": {
          "model_module": "@jupyter-widgets/base",
          "model_name": "LayoutModel",
          "model_module_version": "1.2.0",
          "state": {
            "_model_module": "@jupyter-widgets/base",
            "_model_module_version": "1.2.0",
            "_model_name": "LayoutModel",
            "_view_count": null,
            "_view_module": "@jupyter-widgets/base",
            "_view_module_version": "1.2.0",
            "_view_name": "LayoutView",
            "align_content": null,
            "align_items": null,
            "align_self": null,
            "border": null,
            "bottom": null,
            "display": null,
            "flex": null,
            "flex_flow": null,
            "grid_area": null,
            "grid_auto_columns": null,
            "grid_auto_flow": null,
            "grid_auto_rows": null,
            "grid_column": null,
            "grid_gap": null,
            "grid_row": null,
            "grid_template_areas": null,
            "grid_template_columns": null,
            "grid_template_rows": null,
            "height": null,
            "justify_content": null,
            "justify_items": null,
            "left": null,
            "margin": null,
            "max_height": null,
            "max_width": null,
            "min_height": null,
            "min_width": null,
            "object_fit": null,
            "object_position": null,
            "order": null,
            "overflow": null,
            "overflow_x": null,
            "overflow_y": null,
            "padding": null,
            "right": null,
            "top": null,
            "visibility": null,
            "width": null
          }
        },
        "9068e11873b34e01bc320d6bd2e2ce3a": {
          "model_module": "@jupyter-widgets/controls",
          "model_name": "DescriptionStyleModel",
          "model_module_version": "1.5.0",
          "state": {
            "_model_module": "@jupyter-widgets/controls",
            "_model_module_version": "1.5.0",
            "_model_name": "DescriptionStyleModel",
            "_view_count": null,
            "_view_module": "@jupyter-widgets/base",
            "_view_module_version": "1.2.0",
            "_view_name": "StyleView",
            "description_width": ""
          }
        },
        "0f7aff5ed2ee4acebffe82c6957631ff": {
          "model_module": "@jupyter-widgets/base",
          "model_name": "LayoutModel",
          "model_module_version": "1.2.0",
          "state": {
            "_model_module": "@jupyter-widgets/base",
            "_model_module_version": "1.2.0",
            "_model_name": "LayoutModel",
            "_view_count": null,
            "_view_module": "@jupyter-widgets/base",
            "_view_module_version": "1.2.0",
            "_view_name": "LayoutView",
            "align_content": null,
            "align_items": null,
            "align_self": null,
            "border": null,
            "bottom": null,
            "display": null,
            "flex": null,
            "flex_flow": null,
            "grid_area": null,
            "grid_auto_columns": null,
            "grid_auto_flow": null,
            "grid_auto_rows": null,
            "grid_column": null,
            "grid_gap": null,
            "grid_row": null,
            "grid_template_areas": null,
            "grid_template_columns": null,
            "grid_template_rows": null,
            "height": null,
            "justify_content": null,
            "justify_items": null,
            "left": null,
            "margin": null,
            "max_height": null,
            "max_width": null,
            "min_height": null,
            "min_width": null,
            "object_fit": null,
            "object_position": null,
            "order": null,
            "overflow": null,
            "overflow_x": null,
            "overflow_y": null,
            "padding": null,
            "right": null,
            "top": null,
            "visibility": null,
            "width": null
          }
        },
        "ea0f355a327a47e8955cd0b9efb4dc23": {
          "model_module": "@jupyter-widgets/controls",
          "model_name": "ProgressStyleModel",
          "model_module_version": "1.5.0",
          "state": {
            "_model_module": "@jupyter-widgets/controls",
            "_model_module_version": "1.5.0",
            "_model_name": "ProgressStyleModel",
            "_view_count": null,
            "_view_module": "@jupyter-widgets/base",
            "_view_module_version": "1.2.0",
            "_view_name": "StyleView",
            "bar_color": null,
            "description_width": ""
          }
        },
        "a4ca6d8bb4924823a600cf9192a49bcf": {
          "model_module": "@jupyter-widgets/base",
          "model_name": "LayoutModel",
          "model_module_version": "1.2.0",
          "state": {
            "_model_module": "@jupyter-widgets/base",
            "_model_module_version": "1.2.0",
            "_model_name": "LayoutModel",
            "_view_count": null,
            "_view_module": "@jupyter-widgets/base",
            "_view_module_version": "1.2.0",
            "_view_name": "LayoutView",
            "align_content": null,
            "align_items": null,
            "align_self": null,
            "border": null,
            "bottom": null,
            "display": null,
            "flex": null,
            "flex_flow": null,
            "grid_area": null,
            "grid_auto_columns": null,
            "grid_auto_flow": null,
            "grid_auto_rows": null,
            "grid_column": null,
            "grid_gap": null,
            "grid_row": null,
            "grid_template_areas": null,
            "grid_template_columns": null,
            "grid_template_rows": null,
            "height": null,
            "justify_content": null,
            "justify_items": null,
            "left": null,
            "margin": null,
            "max_height": null,
            "max_width": null,
            "min_height": null,
            "min_width": null,
            "object_fit": null,
            "object_position": null,
            "order": null,
            "overflow": null,
            "overflow_x": null,
            "overflow_y": null,
            "padding": null,
            "right": null,
            "top": null,
            "visibility": null,
            "width": null
          }
        },
        "0f9c6dc9823c48c4b1101df849d337ff": {
          "model_module": "@jupyter-widgets/controls",
          "model_name": "DescriptionStyleModel",
          "model_module_version": "1.5.0",
          "state": {
            "_model_module": "@jupyter-widgets/controls",
            "_model_module_version": "1.5.0",
            "_model_name": "DescriptionStyleModel",
            "_view_count": null,
            "_view_module": "@jupyter-widgets/base",
            "_view_module_version": "1.2.0",
            "_view_name": "StyleView",
            "description_width": ""
          }
        },
        "1946cf52fa564e67b4cce83c63fad0a0": {
          "model_module": "@jupyter-widgets/controls",
          "model_name": "HBoxModel",
          "model_module_version": "1.5.0",
          "state": {
            "_dom_classes": [],
            "_model_module": "@jupyter-widgets/controls",
            "_model_module_version": "1.5.0",
            "_model_name": "HBoxModel",
            "_view_count": null,
            "_view_module": "@jupyter-widgets/controls",
            "_view_module_version": "1.5.0",
            "_view_name": "HBoxView",
            "box_style": "",
            "children": [
              "IPY_MODEL_8966ea2ece8446839e2e11c78d16ffdf",
              "IPY_MODEL_ef45c9e76a0a443fbdc5ca49a0ab6667",
              "IPY_MODEL_a741b0b6a05e41ec9b6433b890681143"
            ],
            "layout": "IPY_MODEL_13c75c078e4f4b66b5c757eaac37248f"
          }
        },
        "8966ea2ece8446839e2e11c78d16ffdf": {
          "model_module": "@jupyter-widgets/controls",
          "model_name": "HTMLModel",
          "model_module_version": "1.5.0",
          "state": {
            "_dom_classes": [],
            "_model_module": "@jupyter-widgets/controls",
            "_model_module_version": "1.5.0",
            "_model_name": "HTMLModel",
            "_view_count": null,
            "_view_module": "@jupyter-widgets/controls",
            "_view_module_version": "1.5.0",
            "_view_name": "HTMLView",
            "description": "",
            "description_tooltip": null,
            "layout": "IPY_MODEL_09b7b91303f246d1996b85a083ed2001",
            "placeholder": "​",
            "style": "IPY_MODEL_23a264656a634cd5a89303e4827e0915",
            "value": "Downloading pytorch_model.bin: 100%"
          }
        },
        "ef45c9e76a0a443fbdc5ca49a0ab6667": {
          "model_module": "@jupyter-widgets/controls",
          "model_name": "FloatProgressModel",
          "model_module_version": "1.5.0",
          "state": {
            "_dom_classes": [],
            "_model_module": "@jupyter-widgets/controls",
            "_model_module_version": "1.5.0",
            "_model_name": "FloatProgressModel",
            "_view_count": null,
            "_view_module": "@jupyter-widgets/controls",
            "_view_module_version": "1.5.0",
            "_view_name": "ProgressView",
            "bar_style": "success",
            "description": "",
            "description_tooltip": null,
            "layout": "IPY_MODEL_7a44a0e63a02401cb8f24b57e240b7ef",
            "max": 440473133,
            "min": 0,
            "orientation": "horizontal",
            "style": "IPY_MODEL_c927f7ce5fcf4f2a898cb50e958cd40e",
            "value": 440473133
          }
        },
        "a741b0b6a05e41ec9b6433b890681143": {
          "model_module": "@jupyter-widgets/controls",
          "model_name": "HTMLModel",
          "model_module_version": "1.5.0",
          "state": {
            "_dom_classes": [],
            "_model_module": "@jupyter-widgets/controls",
            "_model_module_version": "1.5.0",
            "_model_name": "HTMLModel",
            "_view_count": null,
            "_view_module": "@jupyter-widgets/controls",
            "_view_module_version": "1.5.0",
            "_view_name": "HTMLView",
            "description": "",
            "description_tooltip": null,
            "layout": "IPY_MODEL_a93e5704d885492cba0691a1a4ef4911",
            "placeholder": "​",
            "style": "IPY_MODEL_b89d54cb67a2426d9ed56d8f935c9e4d",
            "value": " 440M/440M [00:01&lt;00:00, 267MB/s]"
          }
        },
        "13c75c078e4f4b66b5c757eaac37248f": {
          "model_module": "@jupyter-widgets/base",
          "model_name": "LayoutModel",
          "model_module_version": "1.2.0",
          "state": {
            "_model_module": "@jupyter-widgets/base",
            "_model_module_version": "1.2.0",
            "_model_name": "LayoutModel",
            "_view_count": null,
            "_view_module": "@jupyter-widgets/base",
            "_view_module_version": "1.2.0",
            "_view_name": "LayoutView",
            "align_content": null,
            "align_items": null,
            "align_self": null,
            "border": null,
            "bottom": null,
            "display": null,
            "flex": null,
            "flex_flow": null,
            "grid_area": null,
            "grid_auto_columns": null,
            "grid_auto_flow": null,
            "grid_auto_rows": null,
            "grid_column": null,
            "grid_gap": null,
            "grid_row": null,
            "grid_template_areas": null,
            "grid_template_columns": null,
            "grid_template_rows": null,
            "height": null,
            "justify_content": null,
            "justify_items": null,
            "left": null,
            "margin": null,
            "max_height": null,
            "max_width": null,
            "min_height": null,
            "min_width": null,
            "object_fit": null,
            "object_position": null,
            "order": null,
            "overflow": null,
            "overflow_x": null,
            "overflow_y": null,
            "padding": null,
            "right": null,
            "top": null,
            "visibility": null,
            "width": null
          }
        },
        "09b7b91303f246d1996b85a083ed2001": {
          "model_module": "@jupyter-widgets/base",
          "model_name": "LayoutModel",
          "model_module_version": "1.2.0",
          "state": {
            "_model_module": "@jupyter-widgets/base",
            "_model_module_version": "1.2.0",
            "_model_name": "LayoutModel",
            "_view_count": null,
            "_view_module": "@jupyter-widgets/base",
            "_view_module_version": "1.2.0",
            "_view_name": "LayoutView",
            "align_content": null,
            "align_items": null,
            "align_self": null,
            "border": null,
            "bottom": null,
            "display": null,
            "flex": null,
            "flex_flow": null,
            "grid_area": null,
            "grid_auto_columns": null,
            "grid_auto_flow": null,
            "grid_auto_rows": null,
            "grid_column": null,
            "grid_gap": null,
            "grid_row": null,
            "grid_template_areas": null,
            "grid_template_columns": null,
            "grid_template_rows": null,
            "height": null,
            "justify_content": null,
            "justify_items": null,
            "left": null,
            "margin": null,
            "max_height": null,
            "max_width": null,
            "min_height": null,
            "min_width": null,
            "object_fit": null,
            "object_position": null,
            "order": null,
            "overflow": null,
            "overflow_x": null,
            "overflow_y": null,
            "padding": null,
            "right": null,
            "top": null,
            "visibility": null,
            "width": null
          }
        },
        "23a264656a634cd5a89303e4827e0915": {
          "model_module": "@jupyter-widgets/controls",
          "model_name": "DescriptionStyleModel",
          "model_module_version": "1.5.0",
          "state": {
            "_model_module": "@jupyter-widgets/controls",
            "_model_module_version": "1.5.0",
            "_model_name": "DescriptionStyleModel",
            "_view_count": null,
            "_view_module": "@jupyter-widgets/base",
            "_view_module_version": "1.2.0",
            "_view_name": "StyleView",
            "description_width": ""
          }
        },
        "7a44a0e63a02401cb8f24b57e240b7ef": {
          "model_module": "@jupyter-widgets/base",
          "model_name": "LayoutModel",
          "model_module_version": "1.2.0",
          "state": {
            "_model_module": "@jupyter-widgets/base",
            "_model_module_version": "1.2.0",
            "_model_name": "LayoutModel",
            "_view_count": null,
            "_view_module": "@jupyter-widgets/base",
            "_view_module_version": "1.2.0",
            "_view_name": "LayoutView",
            "align_content": null,
            "align_items": null,
            "align_self": null,
            "border": null,
            "bottom": null,
            "display": null,
            "flex": null,
            "flex_flow": null,
            "grid_area": null,
            "grid_auto_columns": null,
            "grid_auto_flow": null,
            "grid_auto_rows": null,
            "grid_column": null,
            "grid_gap": null,
            "grid_row": null,
            "grid_template_areas": null,
            "grid_template_columns": null,
            "grid_template_rows": null,
            "height": null,
            "justify_content": null,
            "justify_items": null,
            "left": null,
            "margin": null,
            "max_height": null,
            "max_width": null,
            "min_height": null,
            "min_width": null,
            "object_fit": null,
            "object_position": null,
            "order": null,
            "overflow": null,
            "overflow_x": null,
            "overflow_y": null,
            "padding": null,
            "right": null,
            "top": null,
            "visibility": null,
            "width": null
          }
        },
        "c927f7ce5fcf4f2a898cb50e958cd40e": {
          "model_module": "@jupyter-widgets/controls",
          "model_name": "ProgressStyleModel",
          "model_module_version": "1.5.0",
          "state": {
            "_model_module": "@jupyter-widgets/controls",
            "_model_module_version": "1.5.0",
            "_model_name": "ProgressStyleModel",
            "_view_count": null,
            "_view_module": "@jupyter-widgets/base",
            "_view_module_version": "1.2.0",
            "_view_name": "StyleView",
            "bar_color": null,
            "description_width": ""
          }
        },
        "a93e5704d885492cba0691a1a4ef4911": {
          "model_module": "@jupyter-widgets/base",
          "model_name": "LayoutModel",
          "model_module_version": "1.2.0",
          "state": {
            "_model_module": "@jupyter-widgets/base",
            "_model_module_version": "1.2.0",
            "_model_name": "LayoutModel",
            "_view_count": null,
            "_view_module": "@jupyter-widgets/base",
            "_view_module_version": "1.2.0",
            "_view_name": "LayoutView",
            "align_content": null,
            "align_items": null,
            "align_self": null,
            "border": null,
            "bottom": null,
            "display": null,
            "flex": null,
            "flex_flow": null,
            "grid_area": null,
            "grid_auto_columns": null,
            "grid_auto_flow": null,
            "grid_auto_rows": null,
            "grid_column": null,
            "grid_gap": null,
            "grid_row": null,
            "grid_template_areas": null,
            "grid_template_columns": null,
            "grid_template_rows": null,
            "height": null,
            "justify_content": null,
            "justify_items": null,
            "left": null,
            "margin": null,
            "max_height": null,
            "max_width": null,
            "min_height": null,
            "min_width": null,
            "object_fit": null,
            "object_position": null,
            "order": null,
            "overflow": null,
            "overflow_x": null,
            "overflow_y": null,
            "padding": null,
            "right": null,
            "top": null,
            "visibility": null,
            "width": null
          }
        },
        "b89d54cb67a2426d9ed56d8f935c9e4d": {
          "model_module": "@jupyter-widgets/controls",
          "model_name": "DescriptionStyleModel",
          "model_module_version": "1.5.0",
          "state": {
            "_model_module": "@jupyter-widgets/controls",
            "_model_module_version": "1.5.0",
            "_model_name": "DescriptionStyleModel",
            "_view_count": null,
            "_view_module": "@jupyter-widgets/base",
            "_view_module_version": "1.2.0",
            "_view_name": "StyleView",
            "description_width": ""
          }
        }
      }
    }
  },
  "nbformat": 4,
  "nbformat_minor": 0
}